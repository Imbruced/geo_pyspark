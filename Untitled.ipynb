{
 "cells": [
  {
   "cell_type": "code",
   "execution_count": 1,
   "metadata": {},
   "outputs": [],
   "source": [
    "import org.apache.spark.sql.SparkSession"
   ]
  },
  {
   "cell_type": "code",
   "execution_count": 2,
   "metadata": {},
   "outputs": [
    {
     "data": {
      "text/plain": [
       "spark = org.apache.spark.sql.SparkSession@1abac04f\n"
      ]
     },
     "metadata": {},
     "output_type": "display_data"
    },
    {
     "data": {
      "text/plain": [
       "org.apache.spark.sql.SparkSession@1abac04f"
      ]
     },
     "execution_count": 2,
     "metadata": {},
     "output_type": "execute_result"
    }
   ],
   "source": [
    "val spark = SparkSession.builder.master(\"local\").getOrCreate()"
   ]
  },
  {
   "cell_type": "code",
   "execution_count": 3,
   "metadata": {},
   "outputs": [
    {
     "name": "stdout",
     "output_type": "stream",
     "text": [
      "+---+\n",
      "|  1|\n",
      "+---+\n",
      "|  1|\n",
      "+---+\n",
      "\n"
     ]
    }
   ],
   "source": [
    "spark.sql(\"Select 1\").show()"
   ]
  },
  {
   "cell_type": "code",
   "execution_count": null,
   "metadata": {},
   "outputs": [],
   "source": [
    "schema=schema"
   ]
  },
  {
   "cell_type": "code",
   "execution_count": null,
   "metadata": {},
   "outputs": [],
   "source": []
  },
  {
   "cell_type": "code",
   "execution_count": null,
   "metadata": {},
   "outputs": [],
   "source": []
  },
  {
   "cell_type": "code",
   "execution_count": 32,
   "metadata": {},
   "outputs": [
    {
     "data": {
      "text/plain": [
       "StructType(StructField(actor,StructType(StructField(avatar_url,StringType,true), StructField(display_login,StringType,true), StructField(gravatar_id,StringType,true), StructField(id,LongType,true), StructField(login,StringType,true), StructField(url,StringType,true)),true), StructField(created_at,StringType,true), StructField(id,StringType,true), StructField(org,StructType(StructField(avatar_url,StringType,true), StructField(gravatar_id,StringType,true), StructField(id,LongType,true), StructField(login,StringType,true), StructField(url,StringType,true)),true), StructField(payload,StructType(StructField(action,StringType,true), StructField(before,StringType,true), StructField(comment,StructType(StructField(_links,StructType(StructField(html,..."
      ]
     },
     "execution_count": 32,
     "metadata": {},
     "output_type": "execute_result"
    }
   ],
   "source": [
    "schema"
   ]
  },
  {
   "cell_type": "code",
   "execution_count": 48,
   "metadata": {},
   "outputs": [
    {
     "data": {
      "text/plain": [
       "dt = [actor: struct<avatar_url: string, display_login: string ... 4 more fields>, created_at: string ... 6 more fields]\n"
      ]
     },
     "metadata": {},
     "output_type": "display_data"
    },
    {
     "data": {
      "text/plain": [
       "[actor: struct<avatar_url: string, display_login: string ... 4 more fields>, created_at: string ... 6 more fields]"
      ]
     },
     "execution_count": 48,
     "metadata": {},
     "output_type": "execute_result"
    }
   ],
   "source": [
    "val dt = spark.read.\n",
    "schema(schema).\n",
    "json(\"/home/pawel/Desktop/projects/github_archive_files/data/landing/201901\")"
   ]
  },
  {
   "cell_type": "code",
   "execution_count": 51,
   "metadata": {},
   "outputs": [
    {
     "data": {
      "text/plain": [
       "df = [actor: struct<avatar_url: string, display_login: string ... 4 more fields>, created_at: string ... 5 more fields]\n"
      ]
     },
     "metadata": {},
     "output_type": "display_data"
    },
    {
     "data": {
      "text/plain": [
       "[actor: struct<avatar_url: string, display_login: string ... 4 more fields>, created_at: string ... 5 more fields]"
      ]
     },
     "execution_count": 51,
     "metadata": {},
     "output_type": "execute_result"
    }
   ],
   "source": [
    "val df = spark.read.option(\"samplingRatio\", \"0.000001\").\n",
    "json(\"/home/pawel/Desktop/projects/github_archive_files/data/landing/201901\")"
   ]
  },
  {
   "cell_type": "code",
   "execution_count": 56,
   "metadata": {},
   "outputs": [
    {
     "data": {
      "text/plain": [
       "Name: org.apache.spark.sql.AnalysisException\n",
       "Message: cannot resolve 'date_format(unix_timestamp(`created_at`, 'yyyy-MM-dd'), 'yyyyMMdd')' due to data type mismatch: argument 1 requires timestamp type, however, 'unix_timestamp(`created_at`, 'yyyy-MM-dd')' is of bigint type.;;\n",
       "'Project [actor#1123, created_at#1124, id#1125, payload#1126, public#1127, repo#1128, type#1129, date_format(unix_timestamp(created_at#1124, yyyy-MM-dd, Some(Europe/Warsaw)), yyyyMMdd, Some(Europe/Warsaw)) AS date#1178]\n",
       "+- Relation[actor#1123,created_at#1124,id#1125,payload#1126,public#1127,repo#1128,type#1129] json\n",
       "\n",
       "StackTrace: 'Project [actor#1123, created_at#1124, id#1125, payload#1126, public#1127, repo#1128, type#1129, date_format(unix_timestamp(created_at#1124, yyyy-MM-dd, Some(Europe/Warsaw)), yyyyMMdd, Some(Europe/Warsaw)) AS date#1178]\n",
       "+- Relation[actor#1123,created_at#1124,id#1125,payload#1126,public#1127,repo#1128,type#1129] json\n",
       "  at org.apache.spark.sql.catalyst.analysis.package$AnalysisErrorAt.failAnalysis(package.scala:42)\n",
       "  at org.apache.spark.sql.catalyst.analysis.CheckAnalysis$$anonfun$checkAnalysis$1$$anonfun$apply$3.applyOrElse(CheckAnalysis.scala:116)\n",
       "  at org.apache.spark.sql.catalyst.analysis.CheckAnalysis$$anonfun$checkAnalysis$1$$anonfun$apply$3.applyOrElse(CheckAnalysis.scala:108)\n",
       "  at org.apache.spark.sql.catalyst.trees.TreeNode$$anonfun$transformUp$1.apply(TreeNode.scala:281)\n",
       "  at org.apache.spark.sql.catalyst.trees.TreeNode$$anonfun$transformUp$1.apply(TreeNode.scala:281)\n",
       "  at org.apache.spark.sql.catalyst.trees.CurrentOrigin$.withOrigin(TreeNode.scala:70)\n",
       "  at org.apache.spark.sql.catalyst.trees.TreeNode.transformUp(TreeNode.scala:280)\n",
       "  at org.apache.spark.sql.catalyst.trees.TreeNode$$anonfun$3.apply(TreeNode.scala:278)\n",
       "  at org.apache.spark.sql.catalyst.trees.TreeNode$$anonfun$3.apply(TreeNode.scala:278)\n",
       "  at org.apache.spark.sql.catalyst.trees.TreeNode$$anonfun$4.apply(TreeNode.scala:329)\n",
       "  at org.apache.spark.sql.catalyst.trees.TreeNode.mapProductIterator(TreeNode.scala:187)\n",
       "  at org.apache.spark.sql.catalyst.trees.TreeNode.mapChildren(TreeNode.scala:327)\n",
       "  at org.apache.spark.sql.catalyst.trees.TreeNode.transformUp(TreeNode.scala:278)\n",
       "  at org.apache.spark.sql.catalyst.plans.QueryPlan$$anonfun$transformExpressionsUp$1.apply(QueryPlan.scala:93)\n",
       "  at org.apache.spark.sql.catalyst.plans.QueryPlan$$anonfun$transformExpressionsUp$1.apply(QueryPlan.scala:93)\n",
       "  at org.apache.spark.sql.catalyst.plans.QueryPlan$$anonfun$1.apply(QueryPlan.scala:105)\n",
       "  at org.apache.spark.sql.catalyst.plans.QueryPlan$$anonfun$1.apply(QueryPlan.scala:105)\n",
       "  at org.apache.spark.sql.catalyst.trees.CurrentOrigin$.withOrigin(TreeNode.scala:70)\n",
       "  at org.apache.spark.sql.catalyst.plans.QueryPlan.transformExpression$1(QueryPlan.scala:104)\n",
       "  at org.apache.spark.sql.catalyst.plans.QueryPlan.org$apache$spark$sql$catalyst$plans$QueryPlan$$recursiveTransform$1(QueryPlan.scala:116)\n",
       "  at org.apache.spark.sql.catalyst.plans.QueryPlan$$anonfun$org$apache$spark$sql$catalyst$plans$QueryPlan$$recursiveTransform$1$2.apply(QueryPlan.scala:121)\n",
       "  at scala.collection.TraversableLike$$anonfun$map$1.apply(TraversableLike.scala:234)\n",
       "  at scala.collection.TraversableLike$$anonfun$map$1.apply(TraversableLike.scala:234)\n",
       "  at scala.collection.immutable.List.foreach(List.scala:392)\n",
       "  at scala.collection.TraversableLike$class.map(TraversableLike.scala:234)\n",
       "  at scala.collection.immutable.List.map(List.scala:296)\n",
       "  at org.apache.spark.sql.catalyst.plans.QueryPlan.org$apache$spark$sql$catalyst$plans$QueryPlan$$recursiveTransform$1(QueryPlan.scala:121)\n",
       "  at org.apache.spark.sql.catalyst.plans.QueryPlan$$anonfun$2.apply(QueryPlan.scala:126)\n",
       "  at org.apache.spark.sql.catalyst.trees.TreeNode.mapProductIterator(TreeNode.scala:187)\n",
       "  at org.apache.spark.sql.catalyst.plans.QueryPlan.mapExpressions(QueryPlan.scala:126)\n",
       "  at org.apache.spark.sql.catalyst.plans.QueryPlan.transformExpressionsUp(QueryPlan.scala:93)\n",
       "  at org.apache.spark.sql.catalyst.analysis.CheckAnalysis$$anonfun$checkAnalysis$1.apply(CheckAnalysis.scala:108)\n",
       "  at org.apache.spark.sql.catalyst.analysis.CheckAnalysis$$anonfun$checkAnalysis$1.apply(CheckAnalysis.scala:86)\n",
       "  at org.apache.spark.sql.catalyst.trees.TreeNode.foreachUp(TreeNode.scala:127)\n",
       "  at org.apache.spark.sql.catalyst.analysis.CheckAnalysis$class.checkAnalysis(CheckAnalysis.scala:86)\n",
       "  at org.apache.spark.sql.catalyst.analysis.Analyzer.checkAnalysis(Analyzer.scala:95)\n",
       "  at org.apache.spark.sql.catalyst.analysis.Analyzer$$anonfun$executeAndCheck$1.apply(Analyzer.scala:108)\n",
       "  at org.apache.spark.sql.catalyst.analysis.Analyzer$$anonfun$executeAndCheck$1.apply(Analyzer.scala:105)\n",
       "  at org.apache.spark.sql.catalyst.plans.logical.AnalysisHelper$.markInAnalyzer(AnalysisHelper.scala:201)\n",
       "  at org.apache.spark.sql.catalyst.analysis.Analyzer.executeAndCheck(Analyzer.scala:105)\n",
       "  at org.apache.spark.sql.execution.QueryExecution.analyzed$lzycompute(QueryExecution.scala:57)\n",
       "  at org.apache.spark.sql.execution.QueryExecution.analyzed(QueryExecution.scala:55)\n",
       "  at org.apache.spark.sql.execution.QueryExecution.assertAnalyzed(QueryExecution.scala:47)\n",
       "  at org.apache.spark.sql.Dataset$.ofRows(Dataset.scala:78)\n",
       "  at org.apache.spark.sql.Dataset.org$apache$spark$sql$Dataset$$withPlan(Dataset.scala:3412)\n",
       "  at org.apache.spark.sql.Dataset.select(Dataset.scala:1340)\n",
       "  at org.apache.spark.sql.Dataset.withColumns(Dataset.scala:2258)\n",
       "  at org.apache.spark.sql.Dataset.withColumn(Dataset.scala:2225)"
      ]
     },
     "execution_count": 56,
     "metadata": {},
     "output_type": "execute_result"
    }
   ],
   "source": [
    "import org.apache.spark.sql.functions._\n",
    "df.withColumn(\"date\", date_format(\n",
    "      unix_timestamp(col(\"created_at\"), s\"yyyy-MM-dd\").cast(TimestampType),\n",
    "      s\"yyyyMMdd\"\n",
    "    )).show()"
   ]
  },
  {
   "cell_type": "code",
   "execution_count": 69,
   "metadata": {},
   "outputs": [
    {
     "name": "stdout",
     "output_type": "stream",
     "text": [
      "+--------+\n",
      "|    date|\n",
      "+--------+\n",
      "|20190131|\n",
      "+--------+\n",
      "\n"
     ]
    }
   ],
   "source": [
    "import org.apache.spark.sql.functions._\n"
   ]
  },
  {
   "cell_type": "code",
   "execution_count": 72,
   "metadata": {},
   "outputs": [
    {
     "data": {
      "text/plain": [
       "Name: java.lang.AssertionError\n",
       "Message: assertion failed: Conflicting partition column names detected:\n",
       "\n",
       "\tPartition column name list #0: value\n",
       "\tPartition column name list #1: name\n",
       "\n",
       "For partitioned table directories, data files should only live in leaf directories.\n",
       "And directories at the same level should have the same partition column name.\n",
       "Please check the following directories for unexpected files or inconsistent partition column names:\n",
       "\n",
       "\tfile:/home/pawel/Desktop/app_res/value=4\n",
       "\tfile:/home/pawel/Desktop/app_res/name=2\n",
       "\tfile:/home/pawel/Desktop/app_res/name=5\n",
       "StackTrace: \tPartition column name list #0: value\n",
       "\tPartition column name list #1: name\n",
       "For partitioned table directories, data files should only live in leaf directories.\n",
       "And directories at the same level should have the same partition column name.\n",
       "Please check the following directories for unexpected files or inconsistent partition column names:\n",
       "\tfile:/home/pawel/Desktop/app_res/value=4\n",
       "\tfile:/home/pawel/Desktop/app_res/name=2\n",
       "\tfile:/home/pawel/Desktop/app_res/name=5\n",
       "  at scala.Predef$.assert(Predef.scala:170)\n",
       "  at org.apache.spark.sql.execution.datasources.PartitioningUtils$.resolvePartitions(PartitioningUtils.scala:364)\n",
       "  at org.apache.spark.sql.execution.datasources.PartitioningUtils$.parsePartitions(PartitioningUtils.scala:165)\n",
       "  at org.apache.spark.sql.execution.datasources.PartitioningUtils$.parsePartitions(PartitioningUtils.scala:100)\n",
       "  at org.apache.spark.sql.execution.datasources.PartitioningAwareFileIndex.inferPartitioning(PartitioningAwareFileIndex.scala:131)\n",
       "  at org.apache.spark.sql.execution.datasources.InMemoryFileIndex.partitionSpec(InMemoryFileIndex.scala:71)\n",
       "  at org.apache.spark.sql.execution.datasources.PartitioningAwareFileIndex.partitionSchema(PartitioningAwareFileIndex.scala:50)\n",
       "  at org.apache.spark.sql.execution.datasources.DataSource.getOrInferFileFormatSchema(DataSource.scala:144)\n",
       "  at org.apache.spark.sql.execution.datasources.DataSource.resolveRelation(DataSource.scala:373)\n",
       "  at org.apache.spark.sql.DataFrameReader.loadV1Source(DataFrameReader.scala:223)\n",
       "  at org.apache.spark.sql.DataFrameReader.load(DataFrameReader.scala:211)\n",
       "  at org.apache.spark.sql.DataFrameReader.parquet(DataFrameReader.scala:644)\n",
       "  at org.apache.spark.sql.DataFrameReader.parquet(DataFrameReader.scala:628)"
      ]
     },
     "execution_count": 72,
     "metadata": {},
     "output_type": "execute_result"
    }
   ],
   "source": [
    "spark.read.parquet(\"/home/pawel/Desktop/app_res\").count()"
   ]
  },
  {
   "cell_type": "code",
   "execution_count": null,
   "metadata": {},
   "outputs": [],
   "source": []
  },
  {
   "cell_type": "code",
   "execution_count": null,
   "metadata": {},
   "outputs": [],
   "source": []
  },
  {
   "cell_type": "code",
   "execution_count": 37,
   "metadata": {},
   "outputs": [
    {
     "name": "stdout",
     "output_type": "stream",
     "text": [
      "StructField(actor,StructType(StructField(avatar_url,StringType,true), StructField(display_login,StringType,true), StructField(gravatar_id,StringType,true), StructField(id,LongType,true), StructField(login,StringType,true), StructField(url,StringType,true)),true)\n",
      "StructField(created_at,StringType,true)\n",
      "StructField(id,StringType,true)\n",
      "StructField(org,StructType(StructField(avatar_url,StringType,true), StructField(gravatar_id,StringType,true), StructField(id,LongType,true), StructField(login,StringType,true), StructField(url,StringType,true)),true)\n",
      "StructField(payload,StructType(StructField(action,StringType,true), StructField(before,StringType,true), StructField(comment,StructType(StructField(_links,StructType(StructField(html,StructType(StructField(href,StringType,true)),true), StructField(pull_request,StructType(StructField(href,StringType,true)),true), StructField(self,StructType(StructField(href,StringType,true)),true)),true), StructField(author_association,StringType,true), StructField(body,StringType,true), StructField(commit_id,StringType,true), StructField(created_at,StringType,true), StructField(diff_hunk,StringType,true), StructField(html_url,StringType,true), StructField(id,LongType,true), StructField(in_reply_to_id,LongType,true), StructField(issue_url,StringType,true), StructField(line,LongType,true), StructField(node_id,StringType,true), StructField(original_commit_id,StringType,true), StructField(original_position,LongType,true), StructField(path,StringType,true), StructField(position,LongType,true), StructField(pull_request_review_id,LongType,true), StructField(pull_request_url,StringType,true), StructField(updated_at,StringType,true), StructField(url,StringType,true), StructField(user,StructType(StructField(avatar_url,StringType,true), StructField(events_url,StringType,true), StructField(followers_url,StringType,true), StructField(following_url,StringType,true), StructField(gists_url,StringType,true), StructField(gravatar_id,StringType,true), StructField(html_url,StringType,true), StructField(id,LongType,true), StructField(login,StringType,true), StructField(node_id,StringType,true), StructField(organizations_url,StringType,true), StructField(received_events_url,StringType,true), StructField(repos_url,StringType,true), StructField(site_admin,BooleanType,true), StructField(starred_url,StringType,true), StructField(subscriptions_url,StringType,true), StructField(type,StringType,true), StructField(url,StringType,true)),true)),true), StructField(commits,ArrayType(StructType(StructField(author,StructType(StructField(email,StringType,true), StructField(name,StringType,true)),true), StructField(distinct,BooleanType,true), StructField(message,StringType,true), StructField(sha,StringType,true), StructField(url,StringType,true)),true),true), StructField(description,StringType,true), StructField(distinct_size,LongType,true), StructField(forkee,StructType(StructField(archive_url,StringType,true), StructField(archived,BooleanType,true), StructField(assignees_url,StringType,true), StructField(blobs_url,StringType,true), StructField(branches_url,StringType,true), StructField(clone_url,StringType,true), StructField(collaborators_url,StringType,true), StructField(comments_url,StringType,true), StructField(commits_url,StringType,true), StructField(compare_url,StringType,true), StructField(contents_url,StringType,true), StructField(contributors_url,StringType,true), StructField(created_at,StringType,true), StructField(default_branch,StringType,true), StructField(deployments_url,StringType,true), StructField(description,StringType,true), StructField(downloads_url,StringType,true), StructField(events_url,StringType,true), StructField(fork,BooleanType,true), StructField(forks,LongType,true), StructField(forks_count,LongType,true), StructField(forks_url,StringType,true), StructField(full_name,StringType,true), StructField(git_commits_url,StringType,true), StructField(git_refs_url,StringType,true), StructField(git_tags_url,StringType,true), StructField(git_url,StringType,true), StructField(has_downloads,BooleanType,true), StructField(has_issues,BooleanType,true), StructField(has_pages,BooleanType,true), StructField(has_projects,BooleanType,true), StructField(has_wiki,BooleanType,true), StructField(homepage,StringType,true), StructField(hooks_url,StringType,true), StructField(html_url,StringType,true), StructField(id,LongType,true), StructField(issue_comment_url,StringType,true), StructField(issue_events_url,StringType,true), StructField(issues_url,StringType,true), StructField(keys_url,StringType,true), StructField(labels_url,StringType,true), StructField(language,StringType,true), StructField(languages_url,StringType,true), StructField(license,StructType(StructField(key,StringType,true), StructField(name,StringType,true), StructField(node_id,StringType,true), StructField(spdx_id,StringType,true), StructField(url,StringType,true)),true), StructField(merges_url,StringType,true), StructField(milestones_url,StringType,true), StructField(mirror_url,StringType,true), StructField(name,StringType,true), StructField(node_id,StringType,true), StructField(notifications_url,StringType,true), StructField(open_issues,LongType,true), StructField(open_issues_count,LongType,true), StructField(owner,StructType(StructField(avatar_url,StringType,true), StructField(events_url,StringType,true), StructField(followers_url,StringType,true), StructField(following_url,StringType,true), StructField(gists_url,StringType,true), StructField(gravatar_id,StringType,true), StructField(html_url,StringType,true), StructField(id,LongType,true), StructField(login,StringType,true), StructField(node_id,StringType,true), StructField(organizations_url,StringType,true), StructField(received_events_url,StringType,true), StructField(repos_url,StringType,true), StructField(site_admin,BooleanType,true), StructField(starred_url,StringType,true), StructField(subscriptions_url,StringType,true), StructField(type,StringType,true), StructField(url,StringType,true)),true), StructField(private,BooleanType,true), StructField(public,BooleanType,true), StructField(pulls_url,StringType,true), StructField(pushed_at,StringType,true), StructField(releases_url,StringType,true), StructField(size,LongType,true), StructField(ssh_url,StringType,true), StructField(stargazers_count,LongType,true), StructField(stargazers_url,StringType,true), StructField(statuses_url,StringType,true), StructField(subscribers_url,StringType,true), StructField(subscription_url,StringType,true), StructField(svn_url,StringType,true), StructField(tags_url,StringType,true), StructField(teams_url,StringType,true), StructField(trees_url,StringType,true), StructField(updated_at,StringType,true), StructField(url,StringType,true), StructField(watchers,LongType,true), StructField(watchers_count,LongType,true)),true), StructField(head,StringType,true), StructField(issue,StructType(StructField(assignee,StructType(StructField(avatar_url,StringType,true), StructField(events_url,StringType,true), StructField(followers_url,StringType,true), StructField(following_url,StringType,true), StructField(gists_url,StringType,true), StructField(gravatar_id,StringType,true), StructField(html_url,StringType,true), StructField(id,LongType,true), StructField(login,StringType,true), StructField(node_id,StringType,true), StructField(organizations_url,StringType,true), StructField(received_events_url,StringType,true), StructField(repos_url,StringType,true), StructField(site_admin,BooleanType,true), StructField(starred_url,StringType,true), StructField(subscriptions_url,StringType,true), StructField(type,StringType,true), StructField(url,StringType,true)),true), StructField(assignees,ArrayType(StructType(StructField(avatar_url,StringType,true), StructField(events_url,StringType,true), StructField(followers_url,StringType,true), StructField(following_url,StringType,true), StructField(gists_url,StringType,true), StructField(gravatar_id,StringType,true), StructField(html_url,StringType,true), StructField(id,LongType,true), StructField(login,StringType,true), StructField(node_id,StringType,true), StructField(organizations_url,StringType,true), StructField(received_events_url,StringType,true), StructField(repos_url,StringType,true), StructField(site_admin,BooleanType,true), StructField(starred_url,StringType,true), StructField(subscriptions_url,StringType,true), StructField(type,StringType,true), StructField(url,StringType,true)),true),true), StructField(author_association,StringType,true), StructField(body,StringType,true), StructField(closed_at,StringType,true), StructField(comments,LongType,true), StructField(comments_url,StringType,true), StructField(created_at,StringType,true), StructField(events_url,StringType,true), StructField(html_url,StringType,true), StructField(id,LongType,true), StructField(labels,ArrayType(StructType(StructField(color,StringType,true), StructField(default,BooleanType,true), StructField(id,LongType,true), StructField(name,StringType,true), StructField(node_id,StringType,true), StructField(url,StringType,true)),true),true), StructField(labels_url,StringType,true), StructField(locked,BooleanType,true), StructField(milestone,StructType(StructField(closed_at,StringType,true), StructField(closed_issues,LongType,true), StructField(created_at,StringType,true), StructField(creator,StructType(StructField(avatar_url,StringType,true), StructField(events_url,StringType,true), StructField(followers_url,StringType,true), StructField(following_url,StringType,true), StructField(gists_url,StringType,true), StructField(gravatar_id,StringType,true), StructField(html_url,StringType,true), StructField(id,LongType,true), StructField(login,StringType,true), StructField(node_id,StringType,true), StructField(organizations_url,StringType,true), StructField(received_events_url,StringType,true), StructField(repos_url,StringType,true), StructField(site_admin,BooleanType,true), StructField(starred_url,StringType,true), StructField(subscriptions_url,StringType,true), StructField(type,StringType,true), StructField(url,StringType,true)),true), StructField(description,StringType,true), StructField(due_on,StringType,true), StructField(html_url,StringType,true), StructField(id,LongType,true), StructField(labels_url,StringType,true), StructField(node_id,StringType,true), StructField(number,LongType,true), StructField(open_issues,LongType,true), StructField(state,StringType,true), StructField(title,StringType,true), StructField(updated_at,StringType,true), StructField(url,StringType,true)),true), StructField(node_id,StringType,true), StructField(number,LongType,true), StructField(pull_request,StructType(StructField(diff_url,StringType,true), StructField(html_url,StringType,true), StructField(patch_url,StringType,true), StructField(url,StringType,true)),true), StructField(repository_url,StringType,true), StructField(state,StringType,true), StructField(title,StringType,true), StructField(updated_at,StringType,true), StructField(url,StringType,true), StructField(user,StructType(StructField(avatar_url,StringType,true), StructField(events_url,StringType,true), StructField(followers_url,StringType,true), StructField(following_url,StringType,true), StructField(gists_url,StringType,true), StructField(gravatar_id,StringType,true), StructField(html_url,StringType,true), StructField(id,LongType,true), StructField(login,StringType,true), StructField(node_id,StringType,true), StructField(organizations_url,StringType,true), StructField(received_events_url,StringType,true), StructField(repos_url,StringType,true), StructField(site_admin,BooleanType,true), StructField(starred_url,StringType,true), StructField(subscriptions_url,StringType,true), StructField(type,StringType,true), StructField(url,StringType,true)),true)),true), StructField(master_branch,StringType,true), StructField(member,StructType(StructField(avatar_url,StringType,true), StructField(events_url,StringType,true), StructField(followers_url,StringType,true), StructField(following_url,StringType,true), StructField(gists_url,StringType,true), StructField(gravatar_id,StringType,true), StructField(html_url,StringType,true), StructField(id,LongType,true), StructField(login,StringType,true), StructField(node_id,StringType,true), StructField(organizations_url,StringType,true), StructField(received_events_url,StringType,true), StructField(repos_url,StringType,true), StructField(site_admin,BooleanType,true), StructField(starred_url,StringType,true), StructField(subscriptions_url,StringType,true), StructField(type,StringType,true), StructField(url,StringType,true)),true), StructField(number,LongType,true), StructField(pages,ArrayType(StructType(StructField(action,StringType,true), StructField(html_url,StringType,true), StructField(page_name,StringType,true), StructField(sha,StringType,true), StructField(summary,StringType,true), StructField(title,StringType,true)),true),true), StructField(pull_request,StructType(StructField(_links,StructType(StructField(comments,StructType(StructField(href,StringType,true)),true), StructField(commits,StructType(StructField(href,StringType,true)),true), StructField(html,StructType(StructField(href,StringType,true)),true), StructField(issue,StructType(StructField(href,StringType,true)),true), StructField(review_comment,StructType(StructField(href,StringType,true)),true), StructField(review_comments,StructType(StructField(href,StringType,true)),true), StructField(self,StructType(StructField(href,StringType,true)),true), StructField(statuses,StructType(StructField(href,StringType,true)),true)),true), StructField(additions,LongType,true), StructField(assignee,StructType(StructField(avatar_url,StringType,true), StructField(events_url,StringType,true), StructField(followers_url,StringType,true), StructField(following_url,StringType,true), StructField(gists_url,StringType,true), StructField(gravatar_id,StringType,true), StructField(html_url,StringType,true), StructField(id,LongType,true), StructField(login,StringType,true), StructField(node_id,StringType,true), StructField(organizations_url,StringType,true), StructField(received_events_url,StringType,true), StructField(repos_url,StringType,true), StructField(site_admin,BooleanType,true), StructField(starred_url,StringType,true), StructField(subscriptions_url,StringType,true), StructField(type,StringType,true), StructField(url,StringType,true)),true), StructField(assignees,ArrayType(StructType(StructField(avatar_url,StringType,true), StructField(events_url,StringType,true), StructField(followers_url,StringType,true), StructField(following_url,StringType,true), StructField(gists_url,StringType,true), StructField(gravatar_id,StringType,true), StructField(html_url,StringType,true), StructField(id,LongType,true), StructField(login,StringType,true), StructField(node_id,StringType,true), StructField(organizations_url,StringType,true), StructField(received_events_url,StringType,true), StructField(repos_url,StringType,true), StructField(site_admin,BooleanType,true), StructField(starred_url,StringType,true), StructField(subscriptions_url,StringType,true), StructField(type,StringType,true), StructField(url,StringType,true)),true),true), StructField(author_association,StringType,true), StructField(base,StructType(StructField(label,StringType,true), StructField(ref,StringType,true), StructField(repo,StructType(StructField(archive_url,StringType,true), StructField(archived,BooleanType,true), StructField(assignees_url,StringType,true), StructField(blobs_url,StringType,true), StructField(branches_url,StringType,true), StructField(clone_url,StringType,true), StructField(collaborators_url,StringType,true), StructField(comments_url,StringType,true), StructField(commits_url,StringType,true), StructField(compare_url,StringType,true), StructField(contents_url,StringType,true), StructField(contributors_url,StringType,true), StructField(created_at,StringType,true), StructField(default_branch,StringType,true), StructField(deployments_url,StringType,true), StructField(description,StringType,true), StructField(downloads_url,StringType,true), StructField(events_url,StringType,true), StructField(fork,BooleanType,true), StructField(forks,LongType,true), StructField(forks_count,LongType,true), StructField(forks_url,StringType,true), StructField(full_name,StringType,true), StructField(git_commits_url,StringType,true), StructField(git_refs_url,StringType,true), StructField(git_tags_url,StringType,true), StructField(git_url,StringType,true), StructField(has_downloads,BooleanType,true), StructField(has_issues,BooleanType,true), StructField(has_pages,BooleanType,true), StructField(has_projects,BooleanType,true), StructField(has_wiki,BooleanType,true), StructField(homepage,StringType,true), StructField(hooks_url,StringType,true), StructField(html_url,StringType,true), StructField(id,LongType,true), StructField(issue_comment_url,StringType,true), StructField(issue_events_url,StringType,true), StructField(issues_url,StringType,true), StructField(keys_url,StringType,true), StructField(labels_url,StringType,true), StructField(language,StringType,true), StructField(languages_url,StringType,true), StructField(license,StructType(StructField(key,StringType,true), StructField(name,StringType,true), StructField(node_id,StringType,true), StructField(spdx_id,StringType,true), StructField(url,StringType,true)),true), StructField(merges_url,StringType,true), StructField(milestones_url,StringType,true), StructField(mirror_url,StringType,true), StructField(name,StringType,true), StructField(node_id,StringType,true), StructField(notifications_url,StringType,true), StructField(open_issues,LongType,true), StructField(open_issues_count,LongType,true), StructField(owner,StructType(StructField(avatar_url,StringType,true), StructField(events_url,StringType,true), StructField(followers_url,StringType,true), StructField(following_url,StringType,true), StructField(gists_url,StringType,true), StructField(gravatar_id,StringType,true), StructField(html_url,StringType,true), StructField(id,LongType,true), StructField(login,StringType,true), StructField(node_id,StringType,true), StructField(organizations_url,StringType,true), StructField(received_events_url,StringType,true), StructField(repos_url,StringType,true), StructField(site_admin,BooleanType,true), StructField(starred_url,StringType,true), StructField(subscriptions_url,StringType,true), StructField(type,StringType,true), StructField(url,StringType,true)),true), StructField(private,BooleanType,true), StructField(pulls_url,StringType,true), StructField(pushed_at,StringType,true), StructField(releases_url,StringType,true), StructField(size,LongType,true), StructField(ssh_url,StringType,true), StructField(stargazers_count,LongType,true), StructField(stargazers_url,StringType,true), StructField(statuses_url,StringType,true), StructField(subscribers_url,StringType,true), StructField(subscription_url,StringType,true), StructField(svn_url,StringType,true), StructField(tags_url,StringType,true), StructField(teams_url,StringType,true), StructField(trees_url,StringType,true), StructField(updated_at,StringType,true), StructField(url,StringType,true), StructField(watchers,LongType,true), StructField(watchers_count,LongType,true)),true), StructField(sha,StringType,true), StructField(user,StructType(StructField(avatar_url,StringType,true), StructField(events_url,StringType,true), StructField(followers_url,StringType,true), StructField(following_url,StringType,true), StructField(gists_url,StringType,true), StructField(gravatar_id,StringType,true), StructField(html_url,StringType,true), StructField(id,LongType,true), StructField(login,StringType,true), StructField(node_id,StringType,true), StructField(organizations_url,StringType,true), StructField(received_events_url,StringType,true), StructField(repos_url,StringType,true), StructField(site_admin,BooleanType,true), StructField(starred_url,StringType,true), StructField(subscriptions_url,StringType,true), StructField(type,StringType,true), StructField(url,StringType,true)),true)),true), StructField(body,StringType,true), StructField(changed_files,LongType,true), StructField(closed_at,StringType,true), StructField(comments,LongType,true), StructField(comments_url,StringType,true), StructField(commits,LongType,true), StructField(commits_url,StringType,true), StructField(created_at,StringType,true), StructField(deletions,LongType,true), StructField(diff_url,StringType,true), StructField(head,StructType(StructField(label,StringType,true), StructField(ref,StringType,true), StructField(repo,StructType(StructField(archive_url,StringType,true), StructField(archived,BooleanType,true), StructField(assignees_url,StringType,true), StructField(blobs_url,StringType,true), StructField(branches_url,StringType,true), StructField(clone_url,StringType,true), StructField(collaborators_url,StringType,true), StructField(comments_url,StringType,true), StructField(commits_url,StringType,true), StructField(compare_url,StringType,true), StructField(contents_url,StringType,true), StructField(contributors_url,StringType,true), StructField(created_at,StringType,true), StructField(default_branch,StringType,true), StructField(deployments_url,StringType,true), StructField(description,StringType,true), StructField(downloads_url,StringType,true), StructField(events_url,StringType,true), StructField(fork,BooleanType,true), StructField(forks,LongType,true), StructField(forks_count,LongType,true), StructField(forks_url,StringType,true), StructField(full_name,StringType,true), StructField(git_commits_url,StringType,true), StructField(git_refs_url,StringType,true), StructField(git_tags_url,StringType,true), StructField(git_url,StringType,true), StructField(has_downloads,BooleanType,true), StructField(has_issues,BooleanType,true), StructField(has_pages,BooleanType,true), StructField(has_projects,BooleanType,true), StructField(has_wiki,BooleanType,true), StructField(homepage,StringType,true), StructField(hooks_url,StringType,true), StructField(html_url,StringType,true), StructField(id,LongType,true), StructField(issue_comment_url,StringType,true), StructField(issue_events_url,StringType,true), StructField(issues_url,StringType,true), StructField(keys_url,StringType,true), StructField(labels_url,StringType,true), StructField(language,StringType,true), StructField(languages_url,StringType,true), StructField(license,StructType(StructField(key,StringType,true), StructField(name,StringType,true), StructField(node_id,StringType,true), StructField(spdx_id,StringType,true), StructField(url,StringType,true)),true), StructField(merges_url,StringType,true), StructField(milestones_url,StringType,true), StructField(mirror_url,StringType,true), StructField(name,StringType,true), StructField(node_id,StringType,true), StructField(notifications_url,StringType,true), StructField(open_issues,LongType,true), StructField(open_issues_count,LongType,true), StructField(owner,StructType(StructField(avatar_url,StringType,true), StructField(events_url,StringType,true), StructField(followers_url,StringType,true), StructField(following_url,StringType,true), StructField(gists_url,StringType,true), StructField(gravatar_id,StringType,true), StructField(html_url,StringType,true), StructField(id,LongType,true), StructField(login,StringType,true), StructField(node_id,StringType,true), StructField(organizations_url,StringType,true), StructField(received_events_url,StringType,true), StructField(repos_url,StringType,true), StructField(site_admin,BooleanType,true), StructField(starred_url,StringType,true), StructField(subscriptions_url,StringType,true), StructField(type,StringType,true), StructField(url,StringType,true)),true), StructField(private,BooleanType,true), StructField(pulls_url,StringType,true), StructField(pushed_at,StringType,true), StructField(releases_url,StringType,true), StructField(size,LongType,true), StructField(ssh_url,StringType,true), StructField(stargazers_count,LongType,true), StructField(stargazers_url,StringType,true), StructField(statuses_url,StringType,true), StructField(subscribers_url,StringType,true), StructField(subscription_url,StringType,true), StructField(svn_url,StringType,true), StructField(tags_url,StringType,true), StructField(teams_url,StringType,true), StructField(trees_url,StringType,true), StructField(updated_at,StringType,true), StructField(url,StringType,true), StructField(watchers,LongType,true), StructField(watchers_count,LongType,true)),true), StructField(sha,StringType,true), StructField(user,StructType(StructField(avatar_url,StringType,true), StructField(events_url,StringType,true), StructField(followers_url,StringType,true), StructField(following_url,StringType,true), StructField(gists_url,StringType,true), StructField(gravatar_id,StringType,true), StructField(html_url,StringType,true), StructField(id,LongType,true), StructField(login,StringType,true), StructField(node_id,StringType,true), StructField(organizations_url,StringType,true), StructField(received_events_url,StringType,true), StructField(repos_url,StringType,true), StructField(site_admin,BooleanType,true), StructField(starred_url,StringType,true), StructField(subscriptions_url,StringType,true), StructField(type,StringType,true), StructField(url,StringType,true)),true)),true), StructField(html_url,StringType,true), StructField(id,LongType,true), StructField(issue_url,StringType,true), StructField(labels,ArrayType(StructType(StructField(color,StringType,true), StructField(default,BooleanType,true), StructField(id,LongType,true), StructField(name,StringType,true), StructField(node_id,StringType,true), StructField(url,StringType,true)),true),true), StructField(locked,BooleanType,true), StructField(maintainer_can_modify,BooleanType,true), StructField(merge_commit_sha,StringType,true), StructField(mergeable,BooleanType,true), StructField(mergeable_state,StringType,true), StructField(merged,BooleanType,true), StructField(merged_at,StringType,true), StructField(merged_by,StructType(StructField(avatar_url,StringType,true), StructField(events_url,StringType,true), StructField(followers_url,StringType,true), StructField(following_url,StringType,true), StructField(gists_url,StringType,true), StructField(gravatar_id,StringType,true), StructField(html_url,StringType,true), StructField(id,LongType,true), StructField(login,StringType,true), StructField(node_id,StringType,true), StructField(organizations_url,StringType,true), StructField(received_events_url,StringType,true), StructField(repos_url,StringType,true), StructField(site_admin,BooleanType,true), StructField(starred_url,StringType,true), StructField(subscriptions_url,StringType,true), StructField(type,StringType,true), StructField(url,StringType,true)),true), StructField(milestone,StructType(StructField(closed_at,StringType,true), StructField(closed_issues,LongType,true), StructField(created_at,StringType,true), StructField(creator,StructType(StructField(avatar_url,StringType,true), StructField(events_url,StringType,true), StructField(followers_url,StringType,true), StructField(following_url,StringType,true), StructField(gists_url,StringType,true), StructField(gravatar_id,StringType,true), StructField(html_url,StringType,true), StructField(id,LongType,true), StructField(login,StringType,true), StructField(node_id,StringType,true), StructField(organizations_url,StringType,true), StructField(received_events_url,StringType,true), StructField(repos_url,StringType,true), StructField(site_admin,BooleanType,true), StructField(starred_url,StringType,true), StructField(subscriptions_url,StringType,true), StructField(type,StringType,true), StructField(url,StringType,true)),true), StructField(description,StringType,true), StructField(due_on,StringType,true), StructField(html_url,StringType,true), StructField(id,LongType,true), StructField(labels_url,StringType,true), StructField(node_id,StringType,true), StructField(number,LongType,true), StructField(open_issues,LongType,true), StructField(state,StringType,true), StructField(title,StringType,true), StructField(updated_at,StringType,true), StructField(url,StringType,true)),true), StructField(node_id,StringType,true), StructField(number,LongType,true), StructField(patch_url,StringType,true), StructField(rebaseable,BooleanType,true), StructField(requested_reviewers,ArrayType(StructType(StructField(avatar_url,StringType,true), StructField(events_url,StringType,true), StructField(followers_url,StringType,true), StructField(following_url,StringType,true), StructField(gists_url,StringType,true), StructField(gravatar_id,StringType,true), StructField(html_url,StringType,true), StructField(id,LongType,true), StructField(login,StringType,true), StructField(node_id,StringType,true), StructField(organizations_url,StringType,true), StructField(received_events_url,StringType,true), StructField(repos_url,StringType,true), StructField(site_admin,BooleanType,true), StructField(starred_url,StringType,true), StructField(subscriptions_url,StringType,true), StructField(type,StringType,true), StructField(url,StringType,true)),true),true), StructField(requested_teams,ArrayType(StructType(StructField(description,StringType,true), StructField(id,LongType,true), StructField(members_url,StringType,true), StructField(name,StringType,true), StructField(node_id,StringType,true), StructField(permission,StringType,true), StructField(privacy,StringType,true), StructField(repositories_url,StringType,true), StructField(slug,StringType,true), StructField(url,StringType,true)),true),true), StructField(review_comment_url,StringType,true), StructField(review_comments,LongType,true), StructField(review_comments_url,StringType,true), StructField(state,StringType,true), StructField(statuses_url,StringType,true), StructField(title,StringType,true), StructField(updated_at,StringType,true), StructField(url,StringType,true), StructField(user,StructType(StructField(avatar_url,StringType,true), StructField(events_url,StringType,true), StructField(followers_url,StringType,true), StructField(following_url,StringType,true), StructField(gists_url,StringType,true), StructField(gravatar_id,StringType,true), StructField(html_url,StringType,true), StructField(id,LongType,true), StructField(login,StringType,true), StructField(node_id,StringType,true), StructField(organizations_url,StringType,true), StructField(received_events_url,StringType,true), StructField(repos_url,StringType,true), StructField(site_admin,BooleanType,true), StructField(starred_url,StringType,true), StructField(subscriptions_url,StringType,true), StructField(type,StringType,true), StructField(url,StringType,true)),true)),true), StructField(push_id,LongType,true), StructField(pusher_type,StringType,true), StructField(ref,StringType,true), StructField(ref_type,StringType,true), StructField(release,StructType(StructField(assets,ArrayType(StructType(StructField(browser_download_url,StringType,true), StructField(content_type,StringType,true), StructField(created_at,StringType,true), StructField(download_count,LongType,true), StructField(id,LongType,true), StructField(label,StringType,true), StructField(name,StringType,true), StructField(node_id,StringType,true), StructField(size,LongType,true), StructField(state,StringType,true), StructField(updated_at,StringType,true), StructField(uploader,StructType(StructField(avatar_url,StringType,true), StructField(events_url,StringType,true), StructField(followers_url,StringType,true), StructField(following_url,StringType,true), StructField(gists_url,StringType,true), StructField(gravatar_id,StringType,true), StructField(html_url,StringType,true), StructField(id,LongType,true), StructField(login,StringType,true), StructField(node_id,StringType,true), StructField(organizations_url,StringType,true), StructField(received_events_url,StringType,true), StructField(repos_url,StringType,true), StructField(site_admin,BooleanType,true), StructField(starred_url,StringType,true), StructField(subscriptions_url,StringType,true), StructField(type,StringType,true), StructField(url,StringType,true)),true), StructField(url,StringType,true)),true),true), StructField(assets_url,StringType,true), StructField(author,StructType(StructField(avatar_url,StringType,true), StructField(events_url,StringType,true), StructField(followers_url,StringType,true), StructField(following_url,StringType,true), StructField(gists_url,StringType,true), StructField(gravatar_id,StringType,true), StructField(html_url,StringType,true), StructField(id,LongType,true), StructField(login,StringType,true), StructField(node_id,StringType,true), StructField(organizations_url,StringType,true), StructField(received_events_url,StringType,true), StructField(repos_url,StringType,true), StructField(site_admin,BooleanType,true), StructField(starred_url,StringType,true), StructField(subscriptions_url,StringType,true), StructField(type,StringType,true), StructField(url,StringType,true)),true), StructField(body,StringType,true), StructField(created_at,StringType,true), StructField(draft,BooleanType,true), StructField(html_url,StringType,true), StructField(id,LongType,true), StructField(name,StringType,true), StructField(node_id,StringType,true), StructField(prerelease,BooleanType,true), StructField(published_at,StringType,true), StructField(tag_name,StringType,true), StructField(tarball_url,StringType,true), StructField(target_commitish,StringType,true), StructField(upload_url,StringType,true), StructField(url,StringType,true), StructField(zipball_url,StringType,true)),true), StructField(size,LongType,true)),true)\n",
      "StructField(public,BooleanType,true)\n",
      "StructField(repo,StructType(StructField(id,LongType,true), StructField(name,StringType,true), StructField(url,StringType,true)),true)\n",
      "StructField(type,StringType,true)\n"
     ]
    }
   ],
   "source": [
    "schema.foreach(println)"
   ]
  },
  {
   "cell_type": "code",
   "execution_count": 49,
   "metadata": {},
   "outputs": [],
   "source": [
    "import org.apache.spark.sql.types._"
   ]
  },
  {
   "cell_type": "code",
   "execution_count": 50,
   "metadata": {},
   "outputs": [
    {
     "data": {
      "text/plain": [
       "StructType(StructField(id,StringType,false))"
      ]
     },
     "execution_count": 50,
     "metadata": {},
     "output_type": "execute_result"
    }
   ],
   "source": [
    "StructType(List(StructField(\"id\", StringType, false)))"
   ]
  },
  {
   "cell_type": "code",
   "execution_count": null,
   "metadata": {},
   "outputs": [],
   "source": []
  }
 ],
 "metadata": {
  "kernelspec": {
   "display_name": "Apache Toree - Scala",
   "language": "scala",
   "name": "apache_toree_scala"
  },
  "language_info": {
   "codemirror_mode": "text/x-scala",
   "file_extension": ".scala",
   "mimetype": "text/x-scala",
   "name": "scala",
   "pygments_lexer": "scala",
   "version": "2.11.12"
  }
 },
 "nbformat": 4,
 "nbformat_minor": 2
}
