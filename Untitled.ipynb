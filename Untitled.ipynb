{
 "cells": [
  {
   "cell_type": "code",
   "execution_count": 1,
   "metadata": {},
   "outputs": [],
   "source": [
    "import java.util.Date"
   ]
  },
  {
   "cell_type": "code",
   "execution_count": 2,
   "metadata": {},
   "outputs": [
    {
     "data": {
      "text/plain": [
       "format = java.text.SimpleDateFormat@9586200\n",
       "datCurr = Fri Dec 03 00:00:00 CET 1993\n"
      ]
     },
     "metadata": {},
     "output_type": "display_data"
    },
    {
     "data": {
      "text/plain": [
       "Fri Dec 03 00:00:00 CET 1993"
      ]
     },
     "execution_count": 2,
     "metadata": {},
     "output_type": "execute_result"
    }
   ],
   "source": [
    "val format = new java.text.SimpleDateFormat(\"dd-MM-yyyy\")\n",
    "val datCurr = format.parse(\"03-12-1993\")"
   ]
  },
  {
   "cell_type": "code",
   "execution_count": 3,
   "metadata": {},
   "outputs": [
    {
     "data": {
      "text/plain": [
       "03-12-1993"
      ]
     },
     "execution_count": 3,
     "metadata": {},
     "output_type": "execute_result"
    }
   ],
   "source": [
    "format.format(datCurr)"
   ]
  },
  {
   "cell_type": "code",
   "execution_count": 4,
   "metadata": {},
   "outputs": [],
   "source": [
    "import org.joda.time.DateTime"
   ]
  },
  {
   "cell_type": "code",
   "execution_count": 5,
   "metadata": {},
   "outputs": [
    {
     "data": {
      "text/plain": [
       "Name: java.lang.NumberFormatException\n",
       "Message: For input string: \"4g\"\n",
       "StackTrace:   at java.lang.NumberFormatException.forInputString(NumberFormatException.java:65)\n",
       "  at java.lang.Integer.parseInt(Integer.java:580)\n",
       "  at java.lang.Integer.parseInt(Integer.java:615)\n",
       "  at scala.collection.immutable.StringLike$class.toInt(StringLike.scala:273)\n",
       "  at scala.collection.immutable.StringOps.toInt(StringOps.scala:29)"
      ]
     },
     "execution_count": 5,
     "metadata": {},
     "output_type": "execute_result"
    }
   ],
   "source": [
    "\"4g\".toInt"
   ]
  },
  {
   "cell_type": "code",
   "execution_count": 6,
   "metadata": {},
   "outputs": [
    {
     "data": {
      "text/plain": [
       "lastException = null\n"
      ]
     },
     "metadata": {},
     "output_type": "display_data"
    },
    {
     "data": {
      "text/plain": [
       "Name: org.joda.time.IllegalFieldValueException\n",
       "Message: Value 45 for monthOfYear must be in the range [1,12]\n",
       "StackTrace:   at org.joda.time.field.FieldUtils.verifyValueBounds(FieldUtils.java:252)\n",
       "  at org.joda.time.chrono.BasicChronology.getDateMidnightMillis(BasicChronology.java:631)\n",
       "  at org.joda.time.chrono.BasicChronology.getDateTimeMillis0(BasicChronology.java:186)\n",
       "  at org.joda.time.chrono.BasicChronology.getDateTimeMillis(BasicChronology.java:182)\n",
       "  at org.joda.time.chrono.AssembledChronology.getDateTimeMillis(AssembledChronology.java:133)\n",
       "  at org.joda.time.chrono.ZonedChronology.getDateTimeMillis(ZonedChronology.java:122)\n",
       "  at org.joda.time.chrono.AssembledChronology.getDateTimeMillis(AssembledChronology.java:133)\n",
       "  at org.joda.time.base.BaseDateTime.<init>(BaseDateTime.java:257)\n",
       "  at org.joda.time.base.BaseDateTime.<init>(BaseDateTime.java:198)\n",
       "  at org.joda.time.DateTime.<init>(DateTime.java:397)"
      ]
     },
     "execution_count": 6,
     "metadata": {},
     "output_type": "execute_result"
    }
   ],
   "source": [
    "val monthYear = new DateTime(2019, 45, 1, 0, 0, 0)"
   ]
  },
  {
   "cell_type": "code",
   "execution_count": 7,
   "metadata": {},
   "outputs": [
    {
     "data": {
      "text/plain": [
       "Name: Unknown Error\n",
       "Message: lastException: Throwable = null\n",
       "<console>:27: error: not found: value monthYear\n",
       "       val monthYearPrevDay = monthYear.minusDays(1)\n",
       "                              ^\n",
       "\n",
       "StackTrace: "
      ]
     },
     "execution_count": 7,
     "metadata": {},
     "output_type": "execute_result"
    }
   ],
   "source": [
    "val monthYearPrevDay = monthYear.minusDays(1)\n",
    "val days = monthYearPrevDay.dayOfMonth"
   ]
  },
  {
   "cell_type": "code",
   "execution_count": 8,
   "metadata": {},
   "outputs": [
    {
     "data": {
      "text/plain": [
       "Name: Unknown Error\n",
       "Message: <console>:28: error: not found: value days\n",
       "       days.get\n",
       "       ^\n",
       "\n",
       "StackTrace: "
      ]
     },
     "execution_count": 8,
     "metadata": {},
     "output_type": "execute_result"
    }
   ],
   "source": [
    "days.get"
   ]
  },
  {
   "cell_type": "code",
   "execution_count": 9,
   "metadata": {},
   "outputs": [
    {
     "data": {
      "text/plain": [
       "Name: Unknown Error\n",
       "Message: <console>:28: error: object java.text.ParseException is not a value\n",
       "       java.text.ParseException\n",
       "                 ^\n",
       "\n",
       "StackTrace: "
      ]
     },
     "execution_count": 9,
     "metadata": {},
     "output_type": "execute_result"
    }
   ],
   "source": [
    "java.text.ParseException"
   ]
  },
  {
   "cell_type": "code",
   "execution_count": null,
   "metadata": {},
   "outputs": [],
   "source": []
  },
  {
   "cell_type": "code",
   "execution_count": null,
   "metadata": {},
   "outputs": [],
   "source": []
  },
  {
   "cell_type": "code",
   "execution_count": 10,
   "metadata": {},
   "outputs": [
    {
     "data": {
      "text/plain": [
       "downloadFile: (url: String, fileName: String)Unit\n"
      ]
     },
     "metadata": {},
     "output_type": "display_data"
    }
   ],
   "source": [
    "def downloadFile(url: String, fileName: String): Unit = {\n",
    "  try {\n",
    "    val src = scala.io.Source.fromURL(url)\n",
    "    val out = new java.io.FileWriter(fileName)\n",
    "    out.write(src.mkString)\n",
    "    out.close\n",
    "  } \n",
    "    catch {\n",
    "    case e: java.io.IOException => println(\"error occured\")\n",
    "  }\n",
    "}"
   ]
  },
  {
   "cell_type": "code",
   "execution_count": 11,
   "metadata": {},
   "outputs": [
    {
     "name": "stdout",
     "output_type": "stream",
     "text": [
      "error occured\n"
     ]
    }
   ],
   "source": [
    "downloadFile(\"http://data.gharchive.org/2015-01-01-12.json.gz\", \"/home/pkocinski001/plik\")"
   ]
  },
  {
   "cell_type": "code",
   "execution_count": 22,
   "metadata": {},
   "outputs": [
    {
     "data": {
      "text/plain": [
       "Name: java.io.IOException\n",
       "Message: Server returned HTTP response code: 403 for URL: http://data.gharchive.org/2015-01-01-12.json.gz\n",
       "StackTrace:   at sun.net.www.protocol.http.HttpURLConnection.getInputStream0(HttpURLConnection.java:1900)\n",
       "  at sun.net.www.protocol.http.HttpURLConnection.access$200(HttpURLConnection.java:92)\n",
       "  at sun.net.www.protocol.http.HttpURLConnection$9.run(HttpURLConnection.java:1490)\n",
       "  at sun.net.www.protocol.http.HttpURLConnection$9.run(HttpURLConnection.java:1488)\n",
       "  at java.security.AccessController.doPrivileged(Native Method)\n",
       "  at java.security.AccessController.doPrivilegedWithCombiner(AccessController.java:784)\n",
       "  at sun.net.www.protocol.http.HttpURLConnection.getInputStream(HttpURLConnection.java:1487)\n",
       "  at java.net.URL.openStream(URL.java:1057)\n",
       "  at scala.io.Source$.fromURL(Source.scala:141)\n",
       "  at scala.io.Source$.fromURL(Source.scala:131)"
      ]
     },
     "execution_count": 22,
     "metadata": {},
     "output_type": "execute_result"
    }
   ],
   "source": [
    "val src = scala.io.Source.fromURL(\"http://data.gharchive.org/2015-01-01-12.json.gz\")"
   ]
  },
  {
   "cell_type": "code",
   "execution_count": 34,
   "metadata": {},
   "outputs": [
    {
     "data": {
      "text/plain": [
       "lastException: Throwable = null\n"
      ]
     },
     "metadata": {},
     "output_type": "display_data"
    }
   ],
   "source": [
    "import java.net.URL\n",
    "import java.util.Scanner"
   ]
  },
  {
   "cell_type": "code",
   "execution_count": 52,
   "metadata": {},
   "outputs": [
    {
     "data": {
      "text/plain": [
       "url = http://data.gharchive.org/2015-01-01-12.json.gz\n"
      ]
     },
     "metadata": {},
     "output_type": "display_data"
    },
    {
     "data": {
      "text/plain": [
       "http://data.gharchive.org/2015-01-01-12.json.gz"
      ]
     },
     "execution_count": 52,
     "metadata": {},
     "output_type": "execute_result"
    }
   ],
   "source": [
    "val url = new URL(\"http://data.gharchive.org/2015-01-01-12.json.gz\");"
   ]
  },
  {
   "cell_type": "code",
   "execution_count": 82,
   "metadata": {},
   "outputs": [
    {
     "data": {
      "text/plain": [
       "ts = sun.net.www.protocol.http.HttpURLConnection:http://data.gharchive.org/2015-01-01-12.json.gz\n"
      ]
     },
     "metadata": {},
     "output_type": "display_data"
    },
    {
     "data": {
      "text/plain": [
       "lastException: Throwable = null\n"
      ]
     },
     "metadata": {},
     "output_type": "display_data"
    },
    {
     "data": {
      "text/plain": [
       "sun.net.www.protocol.http.HttpURLConnection:http://data.gharchive.org/2015-01-01-12.json.gz"
      ]
     },
     "execution_count": 82,
     "metadata": {},
     "output_type": "execute_result"
    }
   ],
   "source": [
    "val ts = new URL(\"http://data.gharchive.org/2015-01-01-12.json.gz\").openConnection()"
   ]
  },
  {
   "cell_type": "code",
   "execution_count": 83,
   "metadata": {},
   "outputs": [],
   "source": [
    "ts.addRequestProperty(\"User-Agent\", \n",
    "\"Mozilla/4.0 (compatible; MSIE 6.0; Windows NT 5.0)\");"
   ]
  },
  {
   "cell_type": "code",
   "execution_count": null,
   "metadata": {},
   "outputs": [],
   "source": []
  },
  {
   "cell_type": "code",
   "execution_count": 87,
   "metadata": {},
   "outputs": [],
   "source": [
    "import java.io.{BufferedInputStream, FileOutputStream}\n",
    "import java.nio.file.{Files, Path, Paths}"
   ]
  },
  {
   "cell_type": "code",
   "execution_count": 85,
   "metadata": {},
   "outputs": [
    {
     "data": {
      "text/plain": [
       "stream = java.io.BufferedInputStream@4a6fcdbb\n"
      ]
     },
     "metadata": {},
     "output_type": "display_data"
    },
    {
     "data": {
      "text/plain": [
       "java.io.BufferedInputStream@4a6fcdbb"
      ]
     },
     "execution_count": 85,
     "metadata": {},
     "output_type": "execute_result"
    }
   ],
   "source": [
    "val stream = new BufferedInputStream(ts.getInputStream())"
   ]
  },
  {
   "cell_type": "code",
   "execution_count": 95,
   "metadata": {},
   "outputs": [
    {
     "data": {
      "text/plain": [
       "fileName = /home/pkocinski001/file_test4\n"
      ]
     },
     "metadata": {},
     "output_type": "display_data"
    },
    {
     "data": {
      "text/plain": [
       "/home/pkocinski001/file_test4"
      ]
     },
     "execution_count": 95,
     "metadata": {},
     "output_type": "execute_result"
    }
   ],
   "source": [
    "val fileName = \"/home/pkocinski001/file_test4\""
   ]
  },
  {
   "cell_type": "code",
   "execution_count": 94,
   "metadata": {},
   "outputs": [
    {
     "data": {
      "text/plain": [
       "fout = java.io.FileOutputStream@708e09eb\n"
      ]
     },
     "metadata": {},
     "output_type": "display_data"
    },
    {
     "data": {
      "text/plain": [
       "lastException: Throwable = null\n"
      ]
     },
     "metadata": {},
     "output_type": "display_data"
    },
    {
     "data": {
      "text/plain": [
       "java.io.FileOutputStream@708e09eb"
      ]
     },
     "execution_count": 94,
     "metadata": {},
     "output_type": "execute_result"
    }
   ],
   "source": [
    "val fout = new FileOutputStream(\"/home/pkocinski001/file_test2\")"
   ]
  },
  {
   "cell_type": "code",
   "execution_count": 96,
   "metadata": {},
   "outputs": [
    {
     "data": {
      "text/plain": [
       "2673686"
      ]
     },
     "execution_count": 96,
     "metadata": {},
     "output_type": "execute_result"
    }
   ],
   "source": [
    "Files.copy(stream, Paths.get(fileName))"
   ]
  },
  {
   "cell_type": "code",
   "execution_count": null,
   "metadata": {},
   "outputs": [],
   "source": []
  },
  {
   "cell_type": "code",
   "execution_count": null,
   "metadata": {},
   "outputs": [],
   "source": [
    "int count;\n",
    "while((count = in.read(data,0,1024)) != -1)\n",
    "{\n",
    "    out.write(data, 0, count);\n",
    "}"
   ]
  },
  {
   "cell_type": "code",
   "execution_count": 78,
   "metadata": {},
   "outputs": [
    {
     "data": {
      "text/plain": [
       "Name: Unknown Error\n",
       "Message: <console>:51: error: overloaded method value copy with alternatives:\n",
       "  (x$1: java.nio.file.Path,x$2: java.io.OutputStream)Long <and>\n",
       "  (x$1: java.io.InputStream,x$2: java.nio.file.Path,x$3: java.nio.file.CopyOption*)Long <and>\n",
       "  (x$1: java.nio.file.Path,x$2: java.nio.file.Path,x$3: java.nio.file.CopyOption*)java.nio.file.Path\n",
       " cannot be applied to (java.net.URLConnection, java.nio.file.Path)\n",
       "       Files.copy(ts, Paths.get(\"/home/pkocinski001/file_test\"))\n",
       "             ^\n",
       "\n",
       "StackTrace: "
      ]
     },
     "execution_count": 78,
     "metadata": {},
     "output_type": "execute_result"
    }
   ],
   "source": [
    "Files.copy(ts, Paths.get(\"/home/pkocinski001/file_test\"))"
   ]
  },
  {
   "cell_type": "code",
   "execution_count": 61,
   "metadata": {},
   "outputs": [],
   "source": []
  },
  {
   "cell_type": "code",
   "execution_count": 65,
   "metadata": {},
   "outputs": [],
   "source": [
    "import java.nio.file.{Files, Path}"
   ]
  },
  {
   "cell_type": "code",
   "execution_count": 69,
   "metadata": {},
   "outputs": [
    {
     "data": {
      "text/plain": [
       "Name: Unknown Error\n",
       "Message: <console>:48: error: trait Path is abstract; cannot be instantiated\n",
       "       Files.copy(ts, new Path(\"/home/pkocinski001/file_test\"))\n",
       "                      ^\n",
       "\n",
       "StackTrace: "
      ]
     },
     "execution_count": 69,
     "metadata": {},
     "output_type": "execute_result"
    }
   ],
   "source": [
    "Files.copy(ts, new Path(\"\"))"
   ]
  },
  {
   "cell_type": "code",
   "execution_count": 54,
   "metadata": {},
   "outputs": [],
   "source": [
    "import org.apache.commons.io.FileUtils\n",
    "import java.io.File"
   ]
  },
  {
   "cell_type": "code",
   "execution_count": 59,
   "metadata": {},
   "outputs": [
    {
     "data": {
      "text/plain": [
       "Name: java.io.IOException\n",
       "Message: Server returned HTTP response code: 403 for URL: http://data.gharchive.org/2015-01-01-12.json.gz\n",
       "StackTrace:   at sun.net.www.protocol.http.HttpURLConnection.getInputStream0(HttpURLConnection.java:1900)\n",
       "  at sun.net.www.protocol.http.HttpURLConnection.access$200(HttpURLConnection.java:92)\n",
       "  at sun.net.www.protocol.http.HttpURLConnection$9.run(HttpURLConnection.java:1490)\n",
       "  at sun.net.www.protocol.http.HttpURLConnection$9.run(HttpURLConnection.java:1488)\n",
       "  at java.security.AccessController.doPrivileged(Native Method)\n",
       "  at java.security.AccessController.doPrivilegedWithCombiner(AccessController.java:784)\n",
       "  at sun.net.www.protocol.http.HttpURLConnection.getInputStream(HttpURLConnection.java:1487)\n",
       "  at java.net.URL.openStream(URL.java:1057)\n",
       "  at org.apache.commons.io.FileUtils.copyURLToFile(FileUtils.java:1460)"
      ]
     },
     "execution_count": 59,
     "metadata": {},
     "output_type": "execute_result"
    }
   ],
   "source": [
    "FileUtils.copyURLToFile(ts, new File(\"/home/pkocinski001/file_test\"))"
   ]
  },
  {
   "cell_type": "code",
   "execution_count": 47,
   "metadata": {},
   "outputs": [
    {
     "data": {
      "text/plain": [
       "sun.net.www.protocol.http.HttpURLConnection$HttpInputStream@4114a46a"
      ]
     },
     "execution_count": 47,
     "metadata": {},
     "output_type": "execute_result"
    }
   ],
   "source": []
  },
  {
   "cell_type": "code",
   "execution_count": null,
   "metadata": {},
   "outputs": [],
   "source": [
    "val is = response.getEntity().getContent();"
   ]
  },
  {
   "cell_type": "code",
   "execution_count": 24,
   "metadata": {},
   "outputs": [
    {
     "data": {
      "text/plain": [
       "Name: Unknown Error\n",
       "Message: <console>:33: error: not found: value IO\n",
       "       IO.unzipURL(new URL(\"http://data.gharchive.org/2015-01-01-12.json.gz\"), new File(\"/home/pkocinski001/temp\"))\n",
       "       ^\n",
       "\n",
       "StackTrace: "
      ]
     },
     "execution_count": 24,
     "metadata": {},
     "output_type": "execute_result"
    }
   ],
   "source": [
    "IO.unzipURL(new URL(\"http://data.gharchive.org/2015-01-01-12.json.gz\"), new File(\"/home/pkocinski001/temp\"))"
   ]
  },
  {
   "cell_type": "code",
   "execution_count": 37,
   "metadata": {},
   "outputs": [
    {
     "data": {
      "text/plain": [
       "lastException: Throwable = null\n",
       "warning: there was one feature warning; re-run with -feature for details\n",
       "fileDownloader: (url: String, filename: String)String\n"
      ]
     },
     "metadata": {},
     "output_type": "display_data"
    }
   ],
   "source": [
    "import sys.process._\n",
    "import java.net.URL\n",
    "import java.io.File\n",
    "\n",
    "def fileDownloader(url: String, filename: String) = {\n",
    "    new URL(url) #> new File(filename) !!\n",
    "}"
   ]
  },
  {
   "cell_type": "code",
   "execution_count": 42,
   "metadata": {},
   "outputs": [
    {
     "name": "stdout",
     "output_type": "stream",
     "text": [
      "Exception in thread \"Thread-45\" java.io.IOException: Server returned HTTP response code: 403 for URL: http://data.gharchive.org/2015-12-21-1.json.gz\n",
      "\tat sun.net.www.protocol.http.HttpURLConnection.getInputStream0(HttpURLConnection.java:1900)\n",
      "\tat sun.net.www.protocol.http.HttpURLConnection.access$200(HttpURLConnection.java:92)\n",
      "\tat sun.net.www.protocol.http.HttpURLConnection$9.run(HttpURLConnection.java:1490)\n",
      "\tat sun.net.www.protocol.http.HttpURLConnection$9.run(HttpURLConnection.java:1488)\n",
      "\tat java.security.AccessController.doPrivileged(Native Method)\n",
      "\tat java.security.AccessController.doPrivilegedWithCombiner(AccessController.java:784)\n",
      "\tat sun.net.www.protocol.http.HttpURLConnection.getInputStream(HttpURLConnection.java:1487)\n",
      "\tat java.net.URL.openStream(URL.java:1057)\n",
      "\tat scala.sys.process.ProcessBuilderImpl$URLInput$$anonfun$$lessinit$greater$1.apply(ProcessBuilderImpl.scala:31)\n",
      "\tat scala.sys.process.ProcessBuilderImpl$URLInput$$anonfun$$lessinit$greater$1.apply(ProcessBuilderImpl.scala:31)\n",
      "\tat scala.sys.process.ProcessBuilderImpl$IStreamBuilder$$anonfun$$lessinit$greater$5.apply(ProcessBuilderImpl.scala:45)\n",
      "\tat scala.sys.process.ProcessBuilderImpl$IStreamBuilder$$anonfun$$lessinit$greater$5.apply(ProcessBuilderImpl.scala:45)\n",
      "\tat scala.sys.process.ProcessBuilderImpl$ThreadBuilder$$anonfun$1.apply$mcV$sp(ProcessBuilderImpl.scala:58)\n",
      "\tat scala.sys.process.ProcessImpl$Spawn$$anon$1.run(ProcessImpl.scala:23)\n"
     ]
    },
    {
     "data": {
      "text/plain": [
       "lastException = null\n"
      ]
     },
     "metadata": {},
     "output_type": "display_data"
    },
    {
     "data": {
      "text/plain": [
       "Name: java.lang.RuntimeException\n",
       "Message: Nonzero exit value: 1\n",
       "StackTrace:   at scala.sys.package$.error(package.scala:27)\n",
       "  at scala.sys.process.ProcessBuilderImpl$AbstractBuilder.slurp(ProcessBuilderImpl.scala:132)\n",
       "  at scala.sys.process.ProcessBuilderImpl$AbstractBuilder.$bang$bang(ProcessBuilderImpl.scala:102)\n",
       "  at fileDownloader(<console>:40)"
      ]
     },
     "execution_count": 42,
     "metadata": {},
     "output_type": "execute_result"
    }
   ],
   "source": [
    "fileDownloader(\"http://data.gharchive.org/2015-12-21-1.json.gz\", \"/home/pkocinski001/plik\")"
   ]
  },
  {
   "cell_type": "code",
   "execution_count": 12,
   "metadata": {},
   "outputs": [],
   "source": [
    "import org.apache.spark.sql.SparkSession"
   ]
  },
  {
   "cell_type": "code",
   "execution_count": 13,
   "metadata": {},
   "outputs": [
    {
     "data": {
      "text/plain": [
       "spark = org.apache.spark.sql.SparkSession@677c3775\n"
      ]
     },
     "metadata": {},
     "output_type": "display_data"
    },
    {
     "data": {
      "text/plain": [
       "org.apache.spark.sql.SparkSession@677c3775"
      ]
     },
     "execution_count": 13,
     "metadata": {},
     "output_type": "execute_result"
    }
   ],
   "source": [
    "val spark = SparkSession.builder.master(\"local[*]\").getOrCreate()"
   ]
  },
  {
   "cell_type": "code",
   "execution_count": 16,
   "metadata": {},
   "outputs": [
    {
     "data": {
      "text/plain": [
       "dataFrame = [actor: struct<avatar_url: string, display_login: string ... 4 more fields>, created_at: string ... 6 more fields]\n"
      ]
     },
     "metadata": {},
     "output_type": "display_data"
    },
    {
     "data": {
      "text/plain": [
       "lastException: Throwable = null\n"
      ]
     },
     "metadata": {},
     "output_type": "display_data"
    },
    {
     "data": {
      "text/plain": [
       "[actor: struct<avatar_url: string, display_login: string ... 4 more fields>, created_at: string ... 6 more fields]"
      ]
     },
     "execution_count": 16,
     "metadata": {},
     "output_type": "execute_result"
    }
   ],
   "source": [
    "val dataFrame = spark.read.option(\"multiline\", \"false\").format(\"json\").load(\"/home/pkocinski001/temp2/landing/201901\")"
   ]
  },
  {
   "cell_type": "code",
   "execution_count": 18,
   "metadata": {},
   "outputs": [],
   "source": [
    "import org.apache.spark.sql.functions._"
   ]
  },
  {
   "cell_type": "code",
   "execution_count": 25,
   "metadata": {},
   "outputs": [
    {
     "name": "stdout",
     "output_type": "stream",
     "text": [
      "+--------------------+\n",
      "|          created_at|\n",
      "+--------------------+\n",
      "|2019-01-31T22:00:00Z|\n",
      "|2019-01-31T22:00:00Z|\n",
      "|2019-01-31T22:00:00Z|\n",
      "|2019-01-31T22:00:00Z|\n",
      "|2019-01-31T22:00:00Z|\n",
      "|2019-01-31T22:00:00Z|\n",
      "|2019-01-31T22:00:00Z|\n",
      "|2019-01-31T22:00:00Z|\n",
      "|2019-01-31T22:00:00Z|\n",
      "|2019-01-31T22:00:00Z|\n",
      "|2019-01-31T22:00:00Z|\n",
      "|2019-01-31T22:00:00Z|\n",
      "|2019-01-31T22:00:00Z|\n",
      "|2019-01-31T22:00:00Z|\n",
      "|2019-01-31T22:00:00Z|\n",
      "|2019-01-31T22:00:00Z|\n",
      "|2019-01-31T22:00:00Z|\n",
      "|2019-01-31T22:00:00Z|\n",
      "|2019-01-31T22:00:00Z|\n",
      "|2019-01-31T22:00:00Z|\n",
      "+--------------------+\n",
      "only showing top 20 rows\n",
      "\n"
     ]
    }
   ],
   "source": [
    "dataFrame.select(\"created_at\").show()"
   ]
  },
  {
   "cell_type": "code",
   "execution_count": 28,
   "metadata": {},
   "outputs": [],
   "source": [
    "import org.apache.spark.sql.types._"
   ]
  },
  {
   "cell_type": "code",
   "execution_count": 36,
   "metadata": {},
   "outputs": [
    {
     "name": "stdout",
     "output_type": "stream",
     "text": [
      "+--------------------+-----------------+--------------------------------------------------------------------------------+\n",
      "|          created_at|                s|date_format(CAST(unix_timestamp(created_at, yyyy-MM-dd) AS TIMESTAMP), yyyyMMdd)|\n",
      "+--------------------+-----------------+--------------------------------------------------------------------------------+\n",
      "|2019-01-31T23:00:00Z|20190201:12-00-00|                                                                        20190131|\n",
      "|2019-01-31T23:00:00Z|20190201:12-00-00|                                                                        20190131|\n",
      "|2019-01-31T23:00:00Z|20190201:12-00-00|                                                                        20190131|\n",
      "|2019-01-31T23:00:00Z|20190201:12-00-00|                                                                        20190131|\n",
      "|2019-01-31T23:00:00Z|20190201:12-00-00|                                                                        20190131|\n",
      "|2019-01-31T23:00:00Z|20190201:12-00-00|                                                                        20190131|\n",
      "|2019-01-31T23:00:00Z|20190201:12-00-00|                                                                        20190131|\n",
      "|2019-01-31T23:00:00Z|20190201:12-00-00|                                                                        20190131|\n",
      "|2019-01-31T23:00:00Z|20190201:12-00-00|                                                                        20190131|\n",
      "|2019-01-31T23:00:00Z|20190201:12-00-00|                                                                        20190131|\n",
      "|2019-01-31T23:00:00Z|20190201:12-00-00|                                                                        20190131|\n",
      "|2019-01-31T23:00:00Z|20190201:12-00-00|                                                                        20190131|\n",
      "|2019-01-31T23:00:00Z|20190201:12-00-00|                                                                        20190131|\n",
      "|2019-01-31T23:00:01Z|20190201:12-00-01|                                                                        20190131|\n",
      "|2019-01-31T23:00:01Z|20190201:12-00-01|                                                                        20190131|\n",
      "|2019-01-31T23:00:01Z|20190201:12-00-01|                                                                        20190131|\n",
      "|2019-01-31T23:00:01Z|20190201:12-00-01|                                                                        20190131|\n",
      "|2019-01-31T23:00:01Z|20190201:12-00-01|                                                                        20190131|\n",
      "|2019-01-31T23:00:01Z|20190201:12-00-01|                                                                        20190131|\n",
      "|2019-01-31T23:00:01Z|20190201:12-00-01|                                                                        20190131|\n",
      "+--------------------+-----------------+--------------------------------------------------------------------------------+\n",
      "only showing top 20 rows\n",
      "\n"
     ]
    },
    {
     "data": {
      "text/plain": [
       "lastException: Throwable = null\n"
      ]
     },
     "metadata": {},
     "output_type": "display_data"
    }
   ],
   "source": [
    "dataFrame.select($\"created_at\", date_format($\"created_at\", \"yyyyMMdd:hh-mm-ss\").alias(\"s\"),\n",
    "                date_format(unix_timestamp($\"created_at\", \"yyyy-MM-dd\").cast(TimestampType), \"yyyyMMdd\")\n",
    "                ).\n",
    "    filter(\"s like '201902%'\").\n",
    "    show()"
   ]
  },
  {
   "cell_type": "code",
   "execution_count": 142,
   "metadata": {},
   "outputs": [
    {
     "name": "stdout",
     "output_type": "stream",
     "text": [
      "+---------------------------------------+----------+\n",
      "|repo.name                              |count(col)|\n",
      "+---------------------------------------+----------+\n",
      "|dfunkydog/laravoice                    |2         |\n",
      "|hxqfei2864/liming2864                  |4         |\n",
      "|bitst0rm-st3/stylelint                 |1         |\n",
      "|yang-zhang-syd/yang-zhang-syd.github.io|3         |\n",
      "|tacotaco2/Curie                        |14        |\n",
      "|HipNoR/job4j                           |2         |\n",
      "|dsward2/LocalRadio                     |2         |\n",
      "|sunning9001/happyjob                   |1         |\n",
      "|dannypsheehan/ai_pygame                |1         |\n",
      "|gbranton/lovebird                      |1         |\n",
      "+---------------------------------------+----------+\n",
      "only showing top 10 rows\n",
      "\n"
     ]
    }
   ],
   "source": [
    "import org.apache.spark.sql.functions._\n",
    "dataFrame.select($\"created_at\", $\"repo.id\", $\"repo.name\", explode($\"payload.commits.author.name\")).\n",
    "    groupBy(\"`repo.name`\").\n",
    "    agg(count(\"col\")).\n",
    "    show(10, false)"
   ]
  },
  {
   "cell_type": "code",
   "execution_count": 143,
   "metadata": {},
   "outputs": [
    {
     "name": "stdout",
     "output_type": "stream",
     "text": [
      "root\n",
      " |-- id: string (nullable = true)\n",
      " |-- pull_request: struct (nullable = true)\n",
      " |    |-- _links: struct (nullable = true)\n",
      " |    |    |-- comments: struct (nullable = true)\n",
      " |    |    |    |-- href: string (nullable = true)\n",
      " |    |    |-- commits: struct (nullable = true)\n",
      " |    |    |    |-- href: string (nullable = true)\n",
      " |    |    |-- html: struct (nullable = true)\n",
      " |    |    |    |-- href: string (nullable = true)\n",
      " |    |    |-- issue: struct (nullable = true)\n",
      " |    |    |    |-- href: string (nullable = true)\n",
      " |    |    |-- review_comment: struct (nullable = true)\n",
      " |    |    |    |-- href: string (nullable = true)\n",
      " |    |    |-- review_comments: struct (nullable = true)\n",
      " |    |    |    |-- href: string (nullable = true)\n",
      " |    |    |-- self: struct (nullable = true)\n",
      " |    |    |    |-- href: string (nullable = true)\n",
      " |    |    |-- statuses: struct (nullable = true)\n",
      " |    |    |    |-- href: string (nullable = true)\n",
      " |    |-- additions: long (nullable = true)\n",
      " |    |-- assignee: struct (nullable = true)\n",
      " |    |    |-- avatar_url: string (nullable = true)\n",
      " |    |    |-- events_url: string (nullable = true)\n",
      " |    |    |-- followers_url: string (nullable = true)\n",
      " |    |    |-- following_url: string (nullable = true)\n",
      " |    |    |-- gists_url: string (nullable = true)\n",
      " |    |    |-- gravatar_id: string (nullable = true)\n",
      " |    |    |-- html_url: string (nullable = true)\n",
      " |    |    |-- id: long (nullable = true)\n",
      " |    |    |-- login: string (nullable = true)\n",
      " |    |    |-- node_id: string (nullable = true)\n",
      " |    |    |-- organizations_url: string (nullable = true)\n",
      " |    |    |-- received_events_url: string (nullable = true)\n",
      " |    |    |-- repos_url: string (nullable = true)\n",
      " |    |    |-- site_admin: boolean (nullable = true)\n",
      " |    |    |-- starred_url: string (nullable = true)\n",
      " |    |    |-- subscriptions_url: string (nullable = true)\n",
      " |    |    |-- type: string (nullable = true)\n",
      " |    |    |-- url: string (nullable = true)\n",
      " |    |-- assignees: array (nullable = true)\n",
      " |    |    |-- element: struct (containsNull = true)\n",
      " |    |    |    |-- avatar_url: string (nullable = true)\n",
      " |    |    |    |-- events_url: string (nullable = true)\n",
      " |    |    |    |-- followers_url: string (nullable = true)\n",
      " |    |    |    |-- following_url: string (nullable = true)\n",
      " |    |    |    |-- gists_url: string (nullable = true)\n",
      " |    |    |    |-- gravatar_id: string (nullable = true)\n",
      " |    |    |    |-- html_url: string (nullable = true)\n",
      " |    |    |    |-- id: long (nullable = true)\n",
      " |    |    |    |-- login: string (nullable = true)\n",
      " |    |    |    |-- node_id: string (nullable = true)\n",
      " |    |    |    |-- organizations_url: string (nullable = true)\n",
      " |    |    |    |-- received_events_url: string (nullable = true)\n",
      " |    |    |    |-- repos_url: string (nullable = true)\n",
      " |    |    |    |-- site_admin: boolean (nullable = true)\n",
      " |    |    |    |-- starred_url: string (nullable = true)\n",
      " |    |    |    |-- subscriptions_url: string (nullable = true)\n",
      " |    |    |    |-- type: string (nullable = true)\n",
      " |    |    |    |-- url: string (nullable = true)\n",
      " |    |-- author_association: string (nullable = true)\n",
      " |    |-- base: struct (nullable = true)\n",
      " |    |    |-- label: string (nullable = true)\n",
      " |    |    |-- ref: string (nullable = true)\n",
      " |    |    |-- repo: struct (nullable = true)\n",
      " |    |    |    |-- archive_url: string (nullable = true)\n",
      " |    |    |    |-- archived: boolean (nullable = true)\n",
      " |    |    |    |-- assignees_url: string (nullable = true)\n",
      " |    |    |    |-- blobs_url: string (nullable = true)\n",
      " |    |    |    |-- branches_url: string (nullable = true)\n",
      " |    |    |    |-- clone_url: string (nullable = true)\n",
      " |    |    |    |-- collaborators_url: string (nullable = true)\n",
      " |    |    |    |-- comments_url: string (nullable = true)\n",
      " |    |    |    |-- commits_url: string (nullable = true)\n",
      " |    |    |    |-- compare_url: string (nullable = true)\n",
      " |    |    |    |-- contents_url: string (nullable = true)\n",
      " |    |    |    |-- contributors_url: string (nullable = true)\n",
      " |    |    |    |-- created_at: string (nullable = true)\n",
      " |    |    |    |-- default_branch: string (nullable = true)\n",
      " |    |    |    |-- deployments_url: string (nullable = true)\n",
      " |    |    |    |-- description: string (nullable = true)\n",
      " |    |    |    |-- downloads_url: string (nullable = true)\n",
      " |    |    |    |-- events_url: string (nullable = true)\n",
      " |    |    |    |-- fork: boolean (nullable = true)\n",
      " |    |    |    |-- forks: long (nullable = true)\n",
      " |    |    |    |-- forks_count: long (nullable = true)\n",
      " |    |    |    |-- forks_url: string (nullable = true)\n",
      " |    |    |    |-- full_name: string (nullable = true)\n",
      " |    |    |    |-- git_commits_url: string (nullable = true)\n",
      " |    |    |    |-- git_refs_url: string (nullable = true)\n",
      " |    |    |    |-- git_tags_url: string (nullable = true)\n",
      " |    |    |    |-- git_url: string (nullable = true)\n",
      " |    |    |    |-- has_downloads: boolean (nullable = true)\n",
      " |    |    |    |-- has_issues: boolean (nullable = true)\n",
      " |    |    |    |-- has_pages: boolean (nullable = true)\n",
      " |    |    |    |-- has_projects: boolean (nullable = true)\n",
      " |    |    |    |-- has_wiki: boolean (nullable = true)\n",
      " |    |    |    |-- homepage: string (nullable = true)\n",
      " |    |    |    |-- hooks_url: string (nullable = true)\n",
      " |    |    |    |-- html_url: string (nullable = true)\n",
      " |    |    |    |-- id: long (nullable = true)\n",
      " |    |    |    |-- issue_comment_url: string (nullable = true)\n",
      " |    |    |    |-- issue_events_url: string (nullable = true)\n",
      " |    |    |    |-- issues_url: string (nullable = true)\n",
      " |    |    |    |-- keys_url: string (nullable = true)\n",
      " |    |    |    |-- labels_url: string (nullable = true)\n",
      " |    |    |    |-- language: string (nullable = true)\n",
      " |    |    |    |-- languages_url: string (nullable = true)\n",
      " |    |    |    |-- license: struct (nullable = true)\n",
      " |    |    |    |    |-- key: string (nullable = true)\n",
      " |    |    |    |    |-- name: string (nullable = true)\n",
      " |    |    |    |    |-- node_id: string (nullable = true)\n",
      " |    |    |    |    |-- spdx_id: string (nullable = true)\n",
      " |    |    |    |    |-- url: string (nullable = true)\n",
      " |    |    |    |-- merges_url: string (nullable = true)\n",
      " |    |    |    |-- milestones_url: string (nullable = true)\n",
      " |    |    |    |-- mirror_url: string (nullable = true)\n",
      " |    |    |    |-- name: string (nullable = true)\n",
      " |    |    |    |-- node_id: string (nullable = true)\n",
      " |    |    |    |-- notifications_url: string (nullable = true)\n",
      " |    |    |    |-- open_issues: long (nullable = true)\n",
      " |    |    |    |-- open_issues_count: long (nullable = true)\n",
      " |    |    |    |-- owner: struct (nullable = true)\n",
      " |    |    |    |    |-- avatar_url: string (nullable = true)\n",
      " |    |    |    |    |-- events_url: string (nullable = true)\n",
      " |    |    |    |    |-- followers_url: string (nullable = true)\n",
      " |    |    |    |    |-- following_url: string (nullable = true)\n",
      " |    |    |    |    |-- gists_url: string (nullable = true)\n",
      " |    |    |    |    |-- gravatar_id: string (nullable = true)\n",
      " |    |    |    |    |-- html_url: string (nullable = true)\n",
      " |    |    |    |    |-- id: long (nullable = true)\n",
      " |    |    |    |    |-- login: string (nullable = true)\n",
      " |    |    |    |    |-- node_id: string (nullable = true)\n",
      " |    |    |    |    |-- organizations_url: string (nullable = true)\n",
      " |    |    |    |    |-- received_events_url: string (nullable = true)\n",
      " |    |    |    |    |-- repos_url: string (nullable = true)\n",
      " |    |    |    |    |-- site_admin: boolean (nullable = true)\n",
      " |    |    |    |    |-- starred_url: string (nullable = true)\n",
      " |    |    |    |    |-- subscriptions_url: string (nullable = true)\n",
      " |    |    |    |    |-- type: string (nullable = true)\n",
      " |    |    |    |    |-- url: string (nullable = true)\n",
      " |    |    |    |-- private: boolean (nullable = true)\n",
      " |    |    |    |-- pulls_url: string (nullable = true)\n",
      " |    |    |    |-- pushed_at: string (nullable = true)\n",
      " |    |    |    |-- releases_url: string (nullable = true)\n",
      " |    |    |    |-- size: long (nullable = true)\n",
      " |    |    |    |-- ssh_url: string (nullable = true)\n",
      " |    |    |    |-- stargazers_count: long (nullable = true)\n",
      " |    |    |    |-- stargazers_url: string (nullable = true)\n",
      " |    |    |    |-- statuses_url: string (nullable = true)\n",
      " |    |    |    |-- subscribers_url: string (nullable = true)\n",
      " |    |    |    |-- subscription_url: string (nullable = true)\n",
      " |    |    |    |-- svn_url: string (nullable = true)\n",
      " |    |    |    |-- tags_url: string (nullable = true)\n",
      " |    |    |    |-- teams_url: string (nullable = true)\n",
      " |    |    |    |-- trees_url: string (nullable = true)\n",
      " |    |    |    |-- updated_at: string (nullable = true)\n",
      " |    |    |    |-- url: string (nullable = true)\n",
      " |    |    |    |-- watchers: long (nullable = true)\n",
      " |    |    |    |-- watchers_count: long (nullable = true)\n",
      " |    |    |-- sha: string (nullable = true)\n",
      " |    |    |-- user: struct (nullable = true)\n",
      " |    |    |    |-- avatar_url: string (nullable = true)\n",
      " |    |    |    |-- events_url: string (nullable = true)\n",
      " |    |    |    |-- followers_url: string (nullable = true)\n",
      " |    |    |    |-- following_url: string (nullable = true)\n",
      " |    |    |    |-- gists_url: string (nullable = true)\n",
      " |    |    |    |-- gravatar_id: string (nullable = true)\n",
      " |    |    |    |-- html_url: string (nullable = true)\n",
      " |    |    |    |-- id: long (nullable = true)\n",
      " |    |    |    |-- login: string (nullable = true)\n",
      " |    |    |    |-- node_id: string (nullable = true)\n",
      " |    |    |    |-- organizations_url: string (nullable = true)\n",
      " |    |    |    |-- received_events_url: string (nullable = true)\n",
      " |    |    |    |-- repos_url: string (nullable = true)\n",
      " |    |    |    |-- site_admin: boolean (nullable = true)\n",
      " |    |    |    |-- starred_url: string (nullable = true)\n",
      " |    |    |    |-- subscriptions_url: string (nullable = true)\n",
      " |    |    |    |-- type: string (nullable = true)\n",
      " |    |    |    |-- url: string (nullable = true)\n",
      " |    |-- body: string (nullable = true)\n",
      " |    |-- changed_files: long (nullable = true)\n",
      " |    |-- closed_at: string (nullable = true)\n",
      " |    |-- comments: long (nullable = true)\n",
      " |    |-- comments_url: string (nullable = true)\n",
      " |    |-- commits: long (nullable = true)\n",
      " |    |-- commits_url: string (nullable = true)\n",
      " |    |-- created_at: string (nullable = true)\n",
      " |    |-- deletions: long (nullable = true)\n",
      " |    |-- diff_url: string (nullable = true)\n",
      " |    |-- head: struct (nullable = true)\n",
      " |    |    |-- label: string (nullable = true)\n",
      " |    |    |-- ref: string (nullable = true)\n",
      " |    |    |-- repo: struct (nullable = true)\n",
      " |    |    |    |-- archive_url: string (nullable = true)\n",
      " |    |    |    |-- archived: boolean (nullable = true)\n",
      " |    |    |    |-- assignees_url: string (nullable = true)\n",
      " |    |    |    |-- blobs_url: string (nullable = true)\n",
      " |    |    |    |-- branches_url: string (nullable = true)\n",
      " |    |    |    |-- clone_url: string (nullable = true)\n",
      " |    |    |    |-- collaborators_url: string (nullable = true)\n",
      " |    |    |    |-- comments_url: string (nullable = true)\n",
      " |    |    |    |-- commits_url: string (nullable = true)\n",
      " |    |    |    |-- compare_url: string (nullable = true)\n",
      " |    |    |    |-- contents_url: string (nullable = true)\n",
      " |    |    |    |-- contributors_url: string (nullable = true)\n",
      " |    |    |    |-- created_at: string (nullable = true)\n",
      " |    |    |    |-- default_branch: string (nullable = true)\n",
      " |    |    |    |-- deployments_url: string (nullable = true)\n",
      " |    |    |    |-- description: string (nullable = true)\n",
      " |    |    |    |-- downloads_url: string (nullable = true)\n",
      " |    |    |    |-- events_url: string (nullable = true)\n",
      " |    |    |    |-- fork: boolean (nullable = true)\n",
      " |    |    |    |-- forks: long (nullable = true)\n",
      " |    |    |    |-- forks_count: long (nullable = true)\n",
      " |    |    |    |-- forks_url: string (nullable = true)\n",
      " |    |    |    |-- full_name: string (nullable = true)\n",
      " |    |    |    |-- git_commits_url: string (nullable = true)\n",
      " |    |    |    |-- git_refs_url: string (nullable = true)\n",
      " |    |    |    |-- git_tags_url: string (nullable = true)\n",
      " |    |    |    |-- git_url: string (nullable = true)\n",
      " |    |    |    |-- has_downloads: boolean (nullable = true)\n",
      " |    |    |    |-- has_issues: boolean (nullable = true)\n",
      " |    |    |    |-- has_pages: boolean (nullable = true)\n",
      " |    |    |    |-- has_projects: boolean (nullable = true)\n",
      " |    |    |    |-- has_wiki: boolean (nullable = true)\n",
      " |    |    |    |-- homepage: string (nullable = true)\n",
      " |    |    |    |-- hooks_url: string (nullable = true)\n",
      " |    |    |    |-- html_url: string (nullable = true)\n",
      " |    |    |    |-- id: long (nullable = true)\n",
      " |    |    |    |-- issue_comment_url: string (nullable = true)\n",
      " |    |    |    |-- issue_events_url: string (nullable = true)\n",
      " |    |    |    |-- issues_url: string (nullable = true)\n",
      " |    |    |    |-- keys_url: string (nullable = true)\n",
      " |    |    |    |-- labels_url: string (nullable = true)\n",
      " |    |    |    |-- language: string (nullable = true)\n",
      " |    |    |    |-- languages_url: string (nullable = true)\n",
      " |    |    |    |-- license: struct (nullable = true)\n",
      " |    |    |    |    |-- key: string (nullable = true)\n",
      " |    |    |    |    |-- name: string (nullable = true)\n",
      " |    |    |    |    |-- node_id: string (nullable = true)\n",
      " |    |    |    |    |-- spdx_id: string (nullable = true)\n",
      " |    |    |    |    |-- url: string (nullable = true)\n",
      " |    |    |    |-- merges_url: string (nullable = true)\n",
      " |    |    |    |-- milestones_url: string (nullable = true)\n",
      " |    |    |    |-- mirror_url: string (nullable = true)\n",
      " |    |    |    |-- name: string (nullable = true)\n",
      " |    |    |    |-- node_id: string (nullable = true)\n",
      " |    |    |    |-- notifications_url: string (nullable = true)\n",
      " |    |    |    |-- open_issues: long (nullable = true)\n",
      " |    |    |    |-- open_issues_count: long (nullable = true)\n",
      " |    |    |    |-- owner: struct (nullable = true)\n",
      " |    |    |    |    |-- avatar_url: string (nullable = true)\n",
      " |    |    |    |    |-- events_url: string (nullable = true)\n",
      " |    |    |    |    |-- followers_url: string (nullable = true)\n",
      " |    |    |    |    |-- following_url: string (nullable = true)\n",
      " |    |    |    |    |-- gists_url: string (nullable = true)\n",
      " |    |    |    |    |-- gravatar_id: string (nullable = true)\n",
      " |    |    |    |    |-- html_url: string (nullable = true)\n",
      " |    |    |    |    |-- id: long (nullable = true)\n",
      " |    |    |    |    |-- login: string (nullable = true)\n",
      " |    |    |    |    |-- node_id: string (nullable = true)\n",
      " |    |    |    |    |-- organizations_url: string (nullable = true)\n",
      " |    |    |    |    |-- received_events_url: string (nullable = true)\n",
      " |    |    |    |    |-- repos_url: string (nullable = true)\n",
      " |    |    |    |    |-- site_admin: boolean (nullable = true)\n",
      " |    |    |    |    |-- starred_url: string (nullable = true)\n",
      " |    |    |    |    |-- subscriptions_url: string (nullable = true)\n",
      " |    |    |    |    |-- type: string (nullable = true)\n",
      " |    |    |    |    |-- url: string (nullable = true)\n",
      " |    |    |    |-- private: boolean (nullable = true)\n",
      " |    |    |    |-- pulls_url: string (nullable = true)\n",
      " |    |    |    |-- pushed_at: string (nullable = true)\n",
      " |    |    |    |-- releases_url: string (nullable = true)\n",
      " |    |    |    |-- size: long (nullable = true)\n",
      " |    |    |    |-- ssh_url: string (nullable = true)\n",
      " |    |    |    |-- stargazers_count: long (nullable = true)\n",
      " |    |    |    |-- stargazers_url: string (nullable = true)\n",
      " |    |    |    |-- statuses_url: string (nullable = true)\n",
      " |    |    |    |-- subscribers_url: string (nullable = true)\n",
      " |    |    |    |-- subscription_url: string (nullable = true)\n",
      " |    |    |    |-- svn_url: string (nullable = true)\n",
      " |    |    |    |-- tags_url: string (nullable = true)\n",
      " |    |    |    |-- teams_url: string (nullable = true)\n",
      " |    |    |    |-- trees_url: string (nullable = true)\n",
      " |    |    |    |-- updated_at: string (nullable = true)\n",
      " |    |    |    |-- url: string (nullable = true)\n",
      " |    |    |    |-- watchers: long (nullable = true)\n",
      " |    |    |    |-- watchers_count: long (nullable = true)\n",
      " |    |    |-- sha: string (nullable = true)\n",
      " |    |    |-- user: struct (nullable = true)\n",
      " |    |    |    |-- avatar_url: string (nullable = true)\n",
      " |    |    |    |-- events_url: string (nullable = true)\n",
      " |    |    |    |-- followers_url: string (nullable = true)\n",
      " |    |    |    |-- following_url: string (nullable = true)\n",
      " |    |    |    |-- gists_url: string (nullable = true)\n",
      " |    |    |    |-- gravatar_id: string (nullable = true)\n",
      " |    |    |    |-- html_url: string (nullable = true)\n",
      " |    |    |    |-- id: long (nullable = true)\n",
      " |    |    |    |-- login: string (nullable = true)\n",
      " |    |    |    |-- node_id: string (nullable = true)\n",
      " |    |    |    |-- organizations_url: string (nullable = true)\n",
      " |    |    |    |-- received_events_url: string (nullable = true)\n",
      " |    |    |    |-- repos_url: string (nullable = true)\n",
      " |    |    |    |-- site_admin: boolean (nullable = true)\n",
      " |    |    |    |-- starred_url: string (nullable = true)\n",
      " |    |    |    |-- subscriptions_url: string (nullable = true)\n",
      " |    |    |    |-- type: string (nullable = true)\n",
      " |    |    |    |-- url: string (nullable = true)\n",
      " |    |-- html_url: string (nullable = true)\n",
      " |    |-- id: long (nullable = true)\n",
      " |    |-- issue_url: string (nullable = true)\n",
      " |    |-- labels: array (nullable = true)\n",
      " |    |    |-- element: struct (containsNull = true)\n",
      " |    |    |    |-- color: string (nullable = true)\n",
      " |    |    |    |-- default: boolean (nullable = true)\n",
      " |    |    |    |-- id: long (nullable = true)\n",
      " |    |    |    |-- name: string (nullable = true)\n",
      " |    |    |    |-- node_id: string (nullable = true)\n",
      " |    |    |    |-- url: string (nullable = true)\n",
      " |    |-- locked: boolean (nullable = true)\n",
      " |    |-- maintainer_can_modify: boolean (nullable = true)\n",
      " |    |-- merge_commit_sha: string (nullable = true)\n",
      " |    |-- mergeable: boolean (nullable = true)\n",
      " |    |-- mergeable_state: string (nullable = true)\n",
      " |    |-- merged: boolean (nullable = true)\n",
      " |    |-- merged_at: string (nullable = true)\n",
      " |    |-- merged_by: struct (nullable = true)\n",
      " |    |    |-- avatar_url: string (nullable = true)\n",
      " |    |    |-- events_url: string (nullable = true)\n",
      " |    |    |-- followers_url: string (nullable = true)\n",
      " |    |    |-- following_url: string (nullable = true)\n",
      " |    |    |-- gists_url: string (nullable = true)\n",
      " |    |    |-- gravatar_id: string (nullable = true)\n",
      " |    |    |-- html_url: string (nullable = true)\n",
      " |    |    |-- id: long (nullable = true)\n",
      " |    |    |-- login: string (nullable = true)\n",
      " |    |    |-- node_id: string (nullable = true)\n",
      " |    |    |-- organizations_url: string (nullable = true)\n",
      " |    |    |-- received_events_url: string (nullable = true)\n",
      " |    |    |-- repos_url: string (nullable = true)\n",
      " |    |    |-- site_admin: boolean (nullable = true)\n",
      " |    |    |-- starred_url: string (nullable = true)\n",
      " |    |    |-- subscriptions_url: string (nullable = true)\n",
      " |    |    |-- type: string (nullable = true)\n",
      " |    |    |-- url: string (nullable = true)\n",
      " |    |-- milestone: struct (nullable = true)\n",
      " |    |    |-- closed_at: string (nullable = true)\n",
      " |    |    |-- closed_issues: long (nullable = true)\n",
      " |    |    |-- created_at: string (nullable = true)\n",
      " |    |    |-- creator: struct (nullable = true)\n",
      " |    |    |    |-- avatar_url: string (nullable = true)\n",
      " |    |    |    |-- events_url: string (nullable = true)\n",
      " |    |    |    |-- followers_url: string (nullable = true)\n",
      " |    |    |    |-- following_url: string (nullable = true)\n",
      " |    |    |    |-- gists_url: string (nullable = true)\n",
      " |    |    |    |-- gravatar_id: string (nullable = true)\n",
      " |    |    |    |-- html_url: string (nullable = true)\n",
      " |    |    |    |-- id: long (nullable = true)\n",
      " |    |    |    |-- login: string (nullable = true)\n",
      " |    |    |    |-- node_id: string (nullable = true)\n",
      " |    |    |    |-- organizations_url: string (nullable = true)\n",
      " |    |    |    |-- received_events_url: string (nullable = true)\n",
      " |    |    |    |-- repos_url: string (nullable = true)\n",
      " |    |    |    |-- site_admin: boolean (nullable = true)\n",
      " |    |    |    |-- starred_url: string (nullable = true)\n",
      " |    |    |    |-- subscriptions_url: string (nullable = true)\n",
      " |    |    |    |-- type: string (nullable = true)\n",
      " |    |    |    |-- url: string (nullable = true)\n",
      " |    |    |-- description: string (nullable = true)\n",
      " |    |    |-- due_on: string (nullable = true)\n",
      " |    |    |-- html_url: string (nullable = true)\n",
      " |    |    |-- id: long (nullable = true)\n",
      " |    |    |-- labels_url: string (nullable = true)\n",
      " |    |    |-- node_id: string (nullable = true)\n",
      " |    |    |-- number: long (nullable = true)\n",
      " |    |    |-- open_issues: long (nullable = true)\n",
      " |    |    |-- state: string (nullable = true)\n",
      " |    |    |-- title: string (nullable = true)\n",
      " |    |    |-- updated_at: string (nullable = true)\n",
      " |    |    |-- url: string (nullable = true)\n",
      " |    |-- node_id: string (nullable = true)\n",
      " |    |-- number: long (nullable = true)\n",
      " |    |-- patch_url: string (nullable = true)\n",
      " |    |-- rebaseable: boolean (nullable = true)\n",
      " |    |-- requested_reviewers: array (nullable = true)\n",
      " |    |    |-- element: struct (containsNull = true)\n",
      " |    |    |    |-- avatar_url: string (nullable = true)\n",
      " |    |    |    |-- events_url: string (nullable = true)\n",
      " |    |    |    |-- followers_url: string (nullable = true)\n",
      " |    |    |    |-- following_url: string (nullable = true)\n",
      " |    |    |    |-- gists_url: string (nullable = true)\n",
      " |    |    |    |-- gravatar_id: string (nullable = true)\n",
      " |    |    |    |-- html_url: string (nullable = true)\n",
      " |    |    |    |-- id: long (nullable = true)\n",
      " |    |    |    |-- login: string (nullable = true)\n",
      " |    |    |    |-- node_id: string (nullable = true)\n",
      " |    |    |    |-- organizations_url: string (nullable = true)\n",
      " |    |    |    |-- received_events_url: string (nullable = true)\n",
      " |    |    |    |-- repos_url: string (nullable = true)\n",
      " |    |    |    |-- site_admin: boolean (nullable = true)\n",
      " |    |    |    |-- starred_url: string (nullable = true)\n",
      " |    |    |    |-- subscriptions_url: string (nullable = true)\n",
      " |    |    |    |-- type: string (nullable = true)\n",
      " |    |    |    |-- url: string (nullable = true)\n",
      " |    |-- requested_teams: array (nullable = true)\n",
      " |    |    |-- element: struct (containsNull = true)\n",
      " |    |    |    |-- description: string (nullable = true)\n",
      " |    |    |    |-- id: long (nullable = true)\n",
      " |    |    |    |-- members_url: string (nullable = true)\n",
      " |    |    |    |-- name: string (nullable = true)\n",
      " |    |    |    |-- node_id: string (nullable = true)\n",
      " |    |    |    |-- permission: string (nullable = true)\n",
      " |    |    |    |-- privacy: string (nullable = true)\n",
      " |    |    |    |-- repositories_url: string (nullable = true)\n",
      " |    |    |    |-- slug: string (nullable = true)\n",
      " |    |    |    |-- url: string (nullable = true)\n",
      " |    |-- review_comment_url: string (nullable = true)\n",
      " |    |-- review_comments: long (nullable = true)\n",
      " |    |-- review_comments_url: string (nullable = true)\n",
      " |    |-- state: string (nullable = true)\n",
      " |    |-- statuses_url: string (nullable = true)\n",
      " |    |-- title: string (nullable = true)\n",
      " |    |-- updated_at: string (nullable = true)\n",
      " |    |-- url: string (nullable = true)\n",
      " |    |-- user: struct (nullable = true)\n",
      " |    |    |-- avatar_url: string (nullable = true)\n",
      " |    |    |-- events_url: string (nullable = true)\n",
      " |    |    |-- followers_url: string (nullable = true)\n",
      " |    |    |-- following_url: string (nullable = true)\n",
      " |    |    |-- gists_url: string (nullable = true)\n",
      " |    |    |-- gravatar_id: string (nullable = true)\n",
      " |    |    |-- html_url: string (nullable = true)\n",
      " |    |    |-- id: long (nullable = true)\n",
      " |    |    |-- login: string (nullable = true)\n",
      " |    |    |-- node_id: string (nullable = true)\n",
      " |    |    |-- organizations_url: string (nullable = true)\n",
      " |    |    |-- received_events_url: string (nullable = true)\n",
      " |    |    |-- repos_url: string (nullable = true)\n",
      " |    |    |-- site_admin: boolean (nullable = true)\n",
      " |    |    |-- starred_url: string (nullable = true)\n",
      " |    |    |-- subscriptions_url: string (nullable = true)\n",
      " |    |    |-- type: string (nullable = true)\n",
      " |    |    |-- url: string (nullable = true)\n",
      "\n"
     ]
    }
   ],
   "source": [
    "dataFrame.select($\"id\", $\"payload.pull_request\").\n",
    "    filter(\"pull_request is not null\").\n",
    "    printSchema()"
   ]
  },
  {
   "cell_type": "code",
   "execution_count": null,
   "metadata": {},
   "outputs": [],
   "source": []
  },
  {
   "cell_type": "code",
   "execution_count": null,
   "metadata": {},
   "outputs": [],
   "source": []
  },
  {
   "cell_type": "code",
   "execution_count": 222,
   "metadata": {},
   "outputs": [
    {
     "name": "stdout",
     "output_type": "stream",
     "text": [
      "+---------+--------------------+--------------------+----------------+-------+-----------------+--------------------+\n",
      "|       id|                name|          created_at|            type| action|             user|            combined|\n",
      "+---------+--------------------+--------------------+----------------+-------+-----------------+--------------------+\n",
      "| 20481167|tweksteen/jenkins...|2019-01-01T11:00:00Z|      WatchEvent|started|       steven5538|WatchEvent_steven...|\n",
      "|163611141|unclexo/restauran...|2019-01-01T11:00:00Z|      WatchEvent|started|          unclexo|  WatchEvent_unclexo|\n",
      "| 98309070|mitchellkrogza/Ul...|2019-01-01T11:00:03Z|     IssuesEvent| opened|furtunadincarpati|IssuesEvent_furtu...|\n",
      "|158141266|Imran4424/bangla-...|2019-01-01T11:00:03Z|       ForkEvent|   null|          arongka|   ForkEvent_arongka|\n",
      "|141827644|dylanbeattie/rock...|2019-01-01T11:00:03Z|      WatchEvent|started|            ViAik|    WatchEvent_ViAik|\n",
      "|147289893|njuics/java-2018f...|2019-01-01T11:00:03Z|PullRequestEvent| opened|     Tianye-Zheng|PullRequestEvent_...|\n",
      "| 15505458|       matthieua/WOW|2019-01-01T11:00:04Z|      WatchEvent|started|         roccoliu| WatchEvent_roccoliu|\n",
      "| 28239455|         aspnet/Docs|2019-01-01T11:00:05Z|     IssuesEvent| opened|    DragonMastery|IssuesEvent_Drago...|\n",
      "|101033179|          rsms/inter|2019-01-01T11:00:05Z|      WatchEvent|started|            Racum|    WatchEvent_Racum|\n",
      "|105805172|ArkEcosystem/expl...|2019-01-01T11:00:06Z|     IssuesEvent| opened|         zillionn|IssuesEvent_zillionn|\n",
      "| 95011980|         go-ego/riot|2019-01-01T11:00:06Z|      WatchEvent|started|             myxl|     WatchEvent_myxl|\n",
      "|131984641|crystal-method/Lo...|2019-01-01T11:00:07Z|      WatchEvent|started|          jalja27|  WatchEvent_jalja27|\n",
      "| 48081700|ics-creative/proj...|2019-01-01T11:00:07Z|       ForkEvent|   null|        undeadinu| ForkEvent_undeadinu|\n",
      "|146472687|mvirkkunen/usb-de...|2019-01-01T11:00:07Z|      WatchEvent|started|     alfonsojluna|WatchEvent_alfons...|\n",
      "|120687456|A3Antistasi/A3-An...|2019-01-01T11:00:07Z|     IssuesEvent| opened|        colmaniac|IssuesEvent_colma...|\n",
      "| 77912349|         smyhvae/Web|2019-01-01T11:00:09Z|      WatchEvent|started|        tranhaimy|WatchEvent_tranhaimy|\n",
      "|115730496|DipanshKhandelwal...|2019-01-01T11:00:09Z|       ForkEvent|   null|            disdi|     ForkEvent_disdi|\n",
      "|113529571|    Monunova/lantern|2019-01-01T11:00:09Z|      WatchEvent|started|         Monunova| WatchEvent_Monunova|\n",
      "| 77912349|         smyhvae/Web|2019-01-01T11:00:10Z|       ForkEvent|   null|        tranhaimy| ForkEvent_tranhaimy|\n",
      "| 72197229|     cezerin/cezerin|2019-01-01T11:00:10Z|       ForkEvent|   null|      adilfaiz001|ForkEvent_adilfai...|\n",
      "+---------+--------------------+--------------------+----------------+-------+-----------------+--------------------+\n",
      "only showing top 20 rows\n",
      "\n"
     ]
    },
    {
     "data": {
      "text/plain": [
       "lastException: Throwable = null\n",
       "filteredData: Unit = ()\n"
      ]
     },
     "metadata": {},
     "output_type": "display_data"
    }
   ],
   "source": [
    "val filteredData = dataFrame.\n",
    "    filter(\n",
    "        $\"type\".isin(events:_*) && ($\"payload.action\".isin(actionNames:_*) || $\"payload.action\".isNull)).\n",
    "    select($\"repo.id\", $\"repo.name\", $\"created_at\", $\"type\", $\"payload.action\", $\"actor.display_login\".alias(\"user\")).\n",
    "    withColumn(\"combined\", concat($\"type\", lit(\"_\"), $\"user\")).show()"
   ]
  },
  {
   "cell_type": "code",
   "execution_count": 196,
   "metadata": {},
   "outputs": [
    {
     "name": "stdout",
     "output_type": "stream",
     "text": [
      "+---------+--------------------+--------------------+----------------+-------+--------+--------------------+\n",
      "|       id|                name|          created_at|            type| action|    user|            combined|\n",
      "+---------+--------------------+--------------------+----------------+-------+--------+--------------------+\n",
      "| 20481167|tweksteen/jenkins...|2019-01-01T11:00:00Z|      WatchEvent|started| 3387916|  WatchEvent_3387916|\n",
      "|163611141|unclexo/restauran...|2019-01-01T11:00:00Z|      WatchEvent|started|29373179| WatchEvent_29373179|\n",
      "| 98309070|mitchellkrogza/Ul...|2019-01-01T11:00:03Z|     IssuesEvent| opened|20151398|IssuesEvent_20151398|\n",
      "|158141266|Imran4424/bangla-...|2019-01-01T11:00:03Z|       ForkEvent|   null|26138894|  ForkEvent_26138894|\n",
      "|141827644|dylanbeattie/rock...|2019-01-01T11:00:03Z|      WatchEvent|started|35859522| WatchEvent_35859522|\n",
      "|147289893|njuics/java-2018f...|2019-01-01T11:00:03Z|PullRequestEvent| opened|36815535|PullRequestEvent_...|\n",
      "| 15505458|       matthieua/WOW|2019-01-01T11:00:04Z|      WatchEvent|started| 3221852|  WatchEvent_3221852|\n",
      "| 28239455|         aspnet/Docs|2019-01-01T11:00:05Z|     IssuesEvent| opened|29132830|IssuesEvent_29132830|\n",
      "|101033179|          rsms/inter|2019-01-01T11:00:05Z|      WatchEvent|started|  236879|   WatchEvent_236879|\n",
      "|105805172|ArkEcosystem/expl...|2019-01-01T11:00:06Z|     IssuesEvent| opened| 3462869| IssuesEvent_3462869|\n",
      "| 95011980|         go-ego/riot|2019-01-01T11:00:06Z|      WatchEvent|started|20669576| WatchEvent_20669576|\n",
      "|131984641|crystal-method/Lo...|2019-01-01T11:00:07Z|      WatchEvent|started|14727590| WatchEvent_14727590|\n",
      "| 48081700|ics-creative/proj...|2019-01-01T11:00:07Z|       ForkEvent|   null|36129418|  ForkEvent_36129418|\n",
      "|146472687|mvirkkunen/usb-de...|2019-01-01T11:00:07Z|      WatchEvent|started|10271168| WatchEvent_10271168|\n",
      "|120687456|A3Antistasi/A3-An...|2019-01-01T11:00:07Z|     IssuesEvent| opened|35109884|IssuesEvent_35109884|\n",
      "| 77912349|         smyhvae/Web|2019-01-01T11:00:09Z|      WatchEvent|started|46295527| WatchEvent_46295527|\n",
      "|115730496|DipanshKhandelwal...|2019-01-01T11:00:09Z|       ForkEvent|   null| 4300338|   ForkEvent_4300338|\n",
      "|113529571|    Monunova/lantern|2019-01-01T11:00:09Z|      WatchEvent|started|19218747| WatchEvent_19218747|\n",
      "| 77912349|         smyhvae/Web|2019-01-01T11:00:10Z|       ForkEvent|   null|46295527|  ForkEvent_46295527|\n",
      "| 72197229|     cezerin/cezerin|2019-01-01T11:00:10Z|       ForkEvent|   null|13364400|  ForkEvent_13364400|\n",
      "+---------+--------------------+--------------------+----------------+-------+--------+--------------------+\n",
      "only showing top 20 rows\n",
      "\n"
     ]
    }
   ],
   "source": []
  },
  {
   "cell_type": "code",
   "execution_count": 224,
   "metadata": {},
   "outputs": [
    {
     "name": "stdout",
     "output_type": "stream",
     "text": [
      "+---------------------------------+\n",
      "|date_format(created_at, ddMMyyyy)|\n",
      "+---------------------------------+\n",
      "|                         01012019|\n",
      "+---------------------------------+\n",
      "\n"
     ]
    }
   ],
   "source": [
    "dataFrame.select(date_format($\"created_at\", \"ddMMyyyy\")).distinct().show()"
   ]
  },
  {
   "cell_type": "code",
   "execution_count": null,
   "metadata": {},
   "outputs": [],
   "source": []
  },
  {
   "cell_type": "code",
   "execution_count": 186,
   "metadata": {},
   "outputs": [
    {
     "data": {
      "text/plain": [
       "events = List(ForkEvent, IssuesEvent, WatchEvent, PullRequestEvent)\n",
       "actionNames = List(started, opened)\n",
       "aggData = [id: bigint, name: string ... 1 more field]\n"
      ]
     },
     "metadata": {},
     "output_type": "display_data"
    },
    {
     "data": {
      "text/plain": [
       "[id: bigint, name: string ... 1 more field]"
      ]
     },
     "execution_count": 186,
     "metadata": {},
     "output_type": "execute_result"
    }
   ],
   "source": [
    "val filteredData = dataFrame.\n",
    "    filter(\n",
    "        $\"type\".isin(events:_*) && ($\"payload.action\".isin(actionNames:_*) || $\"payload.action\".isNull)).\n",
    "    select($\"repo.id\", $\"repo.name\", $\"created_at\", $\"type\", $\"payload.action\", $\"actor.id\".alias(\"user\")).\n",
    "    withColumn(\"combined\", concat($\"type\", lit(\"_\"), $\"user\")).\n",
    "    groupBy(\"id\", \"name\").\n",
    "    agg(collect_list(\"combined\").as(\"combined_list\"))"
   ]
  },
  {
   "cell_type": "code",
   "execution_count": 187,
   "metadata": {},
   "outputs": [
    {
     "data": {
      "text/plain": [
       "defined class AggDataSchema\n"
      ]
     },
     "metadata": {},
     "output_type": "display_data"
    }
   ],
   "source": [
    "case class AggDataSchema(id: Long, name: String, combined_list: Array[String])"
   ]
  },
  {
   "cell_type": "code",
   "execution_count": 188,
   "metadata": {},
   "outputs": [
    {
     "data": {
      "text/plain": [
       "aggDataDs = [id: bigint, name: string ... 1 more field]\n"
      ]
     },
     "metadata": {},
     "output_type": "display_data"
    },
    {
     "data": {
      "text/plain": [
       "[id: bigint, name: string ... 1 more field]"
      ]
     },
     "execution_count": 188,
     "metadata": {},
     "output_type": "execute_result"
    }
   ],
   "source": [
    "val aggDataDs = aggData.as[AggDataSchema]"
   ]
  },
  {
   "cell_type": "code",
   "execution_count": 194,
   "metadata": {},
   "outputs": [
    {
     "name": "stdout",
     "output_type": "stream",
     "text": [
      "+---------+--------------------+------------+----------------+--------------+------------+\n",
      "|  repo_id|           repo_name|unique_forks|number_of_issues|unique_starred|number_of_pr|\n",
      "+---------+--------------------+------------+----------------+--------------+------------+\n",
      "| 14204342|  jtleek/datasharing|           1|               0|             0|           0|\n",
      "| 28685771|solidnerd/docker-...|           1|               0|             0|           0|\n",
      "| 33249827|flaviotordini/min...|           0|               0|             1|           0|\n",
      "| 61204818|github/opensource...|           1|               0|             0|           0|\n",
      "|104486925|      CR-Gjx/LeakGAN|           0|               0|             1|           0|\n",
      "|122417276|SandboxEscaper/ra...|           0|               0|             1|           0|\n",
      "|137355030|deroko/SPPLUAObje...|           0|               0|             1|           0|\n",
      "|137503493|void-linux/void-i...|           0|               1|             0|           0|\n",
      "|162254743|tnigc/tnigc.githu...|           1|               0|             0|           0|\n",
      "|163231478|PixelVision8/Pixe...|           0|               0|             1|           0|\n",
      "|163727194|MirageMatisse/Fir...|           0|               0|             1|           0|\n",
      "| 43876023|sv99/rastertokpsl-re|           1|               0|             0|           0|\n",
      "| 68400278|       a1ext/auto_re|           0|               0|             1|           0|\n",
      "| 74859091|miferrei/Edge-Con...|           0|               0|             1|           0|\n",
      "| 78931535|     dellkeji/bottle|           0|               0|             1|           0|\n",
      "| 84989226|eni9889/IG-PP-Issues|           0|               1|             0|           0|\n",
      "| 89056693|yongyehuang/Tenso...|           0|               0|             1|           0|\n",
      "| 98542246|shadowsocksr-back...|           0|               0|             1|           0|\n",
      "|100394089|codyebert/IoT-Sec...|           1|               0|             0|           0|\n",
      "|106618491|         airbnb/Lona|           0|               0|             1|           0|\n",
      "+---------+--------------------+------------+----------------+--------------+------------+\n",
      "only showing top 20 rows\n",
      "\n"
     ]
    }
   ],
   "source": [
    "aggDataDs.\n",
    "    map(x => (\n",
    "        x.id,\n",
    "        x.name,\n",
    "        x.combined_list.filter(_.startsWith(\"ForkEvent\")).toSet.size,\n",
    "        x.combined_list.filter(_.startsWith(\"IssuesEvent\")).size,\n",
    "        x.combined_list.filter(_.startsWith(\"WatchEvent\")).toSet.size,\n",
    "        x.combined_list.filter(_.startsWith(\"PullRequestEvent\")).size)\n",
    "       ).toDF(\"repo_id\", \"repo_name\", \"unique_forks\", \"number_of_issues\", \"unique_starred\", \"number_of_pr\").\n",
    "    show()"
   ]
  },
  {
   "cell_type": "code",
   "execution_count": 173,
   "metadata": {},
   "outputs": [
    {
     "data": {
      "text/plain": [
       "Array(actor, created_at, id, org, payload, public, repo, type)"
      ]
     },
     "execution_count": 173,
     "metadata": {},
     "output_type": "execute_result"
    }
   ],
   "source": [
    "dataFrame.columns"
   ]
  },
  {
   "cell_type": "code",
   "execution_count": 161,
   "metadata": {},
   "outputs": [
    {
     "name": "stdout",
     "output_type": "stream",
     "text": [
      "+------+\n",
      "|action|\n",
      "+------+\n",
      "|  null|\n",
      "+------+\n",
      "\n"
     ]
    }
   ],
   "source": [
    "dataFrame.filter(\"type == 'ForkEvent'\").select(\"repo.id\", \"repo.name\", \"created_at\", \"type\", \"payload.action\").select(\"action\").distinct().show()"
   ]
  },
  {
   "cell_type": "code",
   "execution_count": 162,
   "metadata": {},
   "outputs": [
    {
     "name": "stdout",
     "output_type": "stream",
     "text": [
      "+-------+\n",
      "| action|\n",
      "+-------+\n",
      "|started|\n",
      "+-------+\n",
      "\n"
     ]
    }
   ],
   "source": [
    "dataFrame.filter(\"type == 'WatchEvent'\").select(\"repo.id\", \"repo.name\", \"created_at\", \"type\", \"payload.action\").select(\"action\").distinct().show()"
   ]
  },
  {
   "cell_type": "code",
   "execution_count": 163,
   "metadata": {},
   "outputs": [
    {
     "name": "stdout",
     "output_type": "stream",
     "text": [
      "+--------+\n",
      "|  action|\n",
      "+--------+\n",
      "|reopened|\n",
      "|  closed|\n",
      "|  opened|\n",
      "+--------+\n",
      "\n"
     ]
    }
   ],
   "source": [
    "dataFrame.filter(\"type == 'IssuesEvent'\").\n",
    "    select(\"repo.id\", \"repo.name\", \"created_at\", \"type\", \"payload.action\").select(\"action\").distinct().show()\n",
    "    "
   ]
  },
  {
   "cell_type": "code",
   "execution_count": 164,
   "metadata": {},
   "outputs": [
    {
     "name": "stdout",
     "output_type": "stream",
     "text": [
      "+--------+\n",
      "|  action|\n",
      "+--------+\n",
      "|reopened|\n",
      "|  closed|\n",
      "|  opened|\n",
      "+--------+\n",
      "\n"
     ]
    }
   ],
   "source": [
    "dataFrame.filter(\"type == 'PullRequestEvent'\").\n",
    "    select(\"repo.id\", \"repo.name\", \"created_at\", \"type\", \"payload.action\").select(\"action\").distinct().show()\n",
    "    "
   ]
  },
  {
   "cell_type": "code",
   "execution_count": 158,
   "metadata": {},
   "outputs": [
    {
     "name": "stdout",
     "output_type": "stream",
     "text": [
      "+---------+---------------------------------------------+--------------------+----------------+------+\n",
      "|id       |name                                         |created_at          |type            |action|\n",
      "+---------+---------------------------------------------+--------------------+----------------+------+\n",
      "|147289893|njuics/java-2018f-homework                   |2019-01-01T11:00:03Z|PullRequestEvent|opened|\n",
      "|70232694 |MartinHowe426/SWP                            |2019-01-01T11:00:12Z|PullRequestEvent|opened|\n",
      "|162242372|phansch/mini_rfc_for_cargo_lint_configuration|2019-01-01T11:00:17Z|PullRequestEvent|opened|\n",
      "|26730195 |CachetHQ/Cachet                              |2019-01-01T11:00:20Z|PullRequestEvent|opened|\n",
      "|92351361 |grrr-amsterdam/12g-cleandotenv               |2019-01-01T11:00:23Z|PullRequestEvent|opened|\n",
      "+---------+---------------------------------------------+--------------------+----------------+------+\n",
      "only showing top 5 rows\n",
      "\n"
     ]
    }
   ],
   "source": [
    "dataFrame.filter(\"type == 'PullRequestEvent' and payload.action == 'opened'\").\n",
    "    select(\"repo.id\", \"repo.name\", \"created_at\", \"type\", \"payload.action\").show(5, false)"
   ]
  },
  {
   "cell_type": "code",
   "execution_count": null,
   "metadata": {},
   "outputs": [],
   "source": [
    "ForkEvent - ok\n",
    "WatchEvent\n",
    "IssuesEvent - \"state\": \"open\"\n",
    "PullRequestEvent - \"state\": \"open\","
   ]
  },
  {
   "cell_type": "code",
   "execution_count": 147,
   "metadata": {},
   "outputs": [
    {
     "name": "stdout",
     "output_type": "stream",
     "text": [
      "+--------------------+\n",
      "|                type|\n",
      "+--------------------+\n",
      "|           PushEvent|\n",
      "|         GollumEvent|\n",
      "|        ReleaseEvent|\n",
      "|  CommitCommentEvent|\n",
      "|         CreateEvent|\n",
      "|PullRequestReview...|\n",
      "|   IssueCommentEvent|\n",
      "|         DeleteEvent|\n",
      "|         IssuesEvent|\n",
      "|           ForkEvent|\n",
      "|         PublicEvent|\n",
      "|         MemberEvent|\n",
      "|          WatchEvent|\n",
      "|    PullRequestEvent|\n",
      "+--------------------+\n",
      "\n"
     ]
    }
   ],
   "source": [
    "dataFrame.select(\"type\").distinct().show()"
   ]
  },
  {
   "cell_type": "code",
   "execution_count": null,
   "metadata": {},
   "outputs": [],
   "source": []
  }
 ],
 "metadata": {
  "kernelspec": {
   "display_name": "Apache Toree - Scala",
   "language": "scala",
   "name": "apache_toree_scala"
  },
  "language_info": {
   "codemirror_mode": "text/x-scala",
   "file_extension": ".scala",
   "mimetype": "text/x-scala",
   "name": "scala",
   "pygments_lexer": "scala",
   "version": "2.11.12"
  }
 },
 "nbformat": 4,
 "nbformat_minor": 2
}
